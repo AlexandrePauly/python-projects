{
 "cells": [
  {
   "cell_type": "markdown",
   "metadata": {},
   "source": [
    "# Thématique 4 - Analyse bivariée mixte"
   ]
  },
  {
   "cell_type": "markdown",
   "metadata": {},
   "source": [
    "### Importation des librairies"
   ]
  },
  {
   "cell_type": "code",
   "execution_count": 40,
   "metadata": {},
   "outputs": [],
   "source": [
    "import os\n",
    "import numpy as np\n",
    "import pandas as pd\n",
    "import matplotlib.pyplot as plt\n",
    "import seaborn as sns"
   ]
  },
  {
   "cell_type": "markdown",
   "metadata": {},
   "source": [
    "### Data pre-processing"
   ]
  },
  {
   "cell_type": "code",
   "execution_count": 41,
   "metadata": {},
   "outputs": [
    {
     "data": {
      "text/html": [
       "<div>\n",
       "<style scoped>\n",
       "    .dataframe tbody tr th:only-of-type {\n",
       "        vertical-align: middle;\n",
       "    }\n",
       "\n",
       "    .dataframe tbody tr th {\n",
       "        vertical-align: top;\n",
       "    }\n",
       "\n",
       "    .dataframe thead th {\n",
       "        text-align: right;\n",
       "    }\n",
       "</style>\n",
       "<table border=\"1\" class=\"dataframe\">\n",
       "  <thead>\n",
       "    <tr style=\"text-align: right;\">\n",
       "      <th></th>\n",
       "      <th>Salaire</th>\n",
       "      <th>Age</th>\n",
       "    </tr>\n",
       "  </thead>\n",
       "  <tbody>\n",
       "    <tr>\n",
       "      <th>count</th>\n",
       "      <td>130.000000</td>\n",
       "      <td>130.000000</td>\n",
       "    </tr>\n",
       "    <tr>\n",
       "      <th>mean</th>\n",
       "      <td>32.038462</td>\n",
       "      <td>33.200000</td>\n",
       "    </tr>\n",
       "    <tr>\n",
       "      <th>std</th>\n",
       "      <td>26.085252</td>\n",
       "      <td>11.999612</td>\n",
       "    </tr>\n",
       "    <tr>\n",
       "      <th>min</th>\n",
       "      <td>18.000000</td>\n",
       "      <td>18.000000</td>\n",
       "    </tr>\n",
       "    <tr>\n",
       "      <th>25%</th>\n",
       "      <td>21.000000</td>\n",
       "      <td>23.000000</td>\n",
       "    </tr>\n",
       "    <tr>\n",
       "      <th>50%</th>\n",
       "      <td>23.000000</td>\n",
       "      <td>30.500000</td>\n",
       "    </tr>\n",
       "    <tr>\n",
       "      <th>75%</th>\n",
       "      <td>26.000000</td>\n",
       "      <td>42.000000</td>\n",
       "    </tr>\n",
       "    <tr>\n",
       "      <th>max</th>\n",
       "      <td>140.000000</td>\n",
       "      <td>59.000000</td>\n",
       "    </tr>\n",
       "  </tbody>\n",
       "</table>\n",
       "</div>"
      ],
      "text/plain": [
       "          Salaire         Age\n",
       "count  130.000000  130.000000\n",
       "mean    32.038462   33.200000\n",
       "std     26.085252   11.999612\n",
       "min     18.000000   18.000000\n",
       "25%     21.000000   23.000000\n",
       "50%     23.000000   30.500000\n",
       "75%     26.000000   42.000000\n",
       "max    140.000000   59.000000"
      ]
     },
     "execution_count": 41,
     "metadata": {},
     "output_type": "execute_result"
    }
   ],
   "source": [
    "# Préparation du fichier de données\n",
    "filepath = \"../data\"\n",
    "filename = \"SalairesData.csv\"\n",
    "file = os.path.join(filepath, filename)\n",
    "\n",
    "# Lecture des données\n",
    "df_original = pd.read_csv(file, delimiter=\";\")\n",
    "df = df_original.copy()\n",
    "\n",
    "df = df.drop(columns=['Unnamed: 0'], errors='ignore')\n",
    "\n",
    "# Extraction de l'en-tête\n",
    "header = list(df.columns)\n",
    "\n",
    "# Extraction des données sans l'en-tête\n",
    "data = df.to_numpy()\n",
    "\n",
    "# Affichage des indicateurs de positions et de dispersions\n",
    "df.describe()"
   ]
  },
  {
   "cell_type": "markdown",
   "metadata": {},
   "source": [
    "Ce jeu de données comptabilise des données sur les salariés d'une entreprise et recensse différentes caractéristiques, notamment l'âge et le salaire en tant que variables quantitatives, mais aussi le sexe, l'établissement auquel ils sont rattachés et la catégorie socio-professionnelle. Ici, nous comptons 130 salariés et sur ces 130 individus différents, le salaire annuel moyen est de 32 000€ pour une moyenne d'âge de 33ans. De plus, les valeurs non quantitatives ne sont pas affichées par describe."
   ]
  },
  {
   "cell_type": "code",
   "execution_count": 42,
   "metadata": {},
   "outputs": [
    {
     "data": {
      "text/html": [
       "<div>\n",
       "<style scoped>\n",
       "    .dataframe tbody tr th:only-of-type {\n",
       "        vertical-align: middle;\n",
       "    }\n",
       "\n",
       "    .dataframe tbody tr th {\n",
       "        vertical-align: top;\n",
       "    }\n",
       "\n",
       "    .dataframe thead th {\n",
       "        text-align: right;\n",
       "    }\n",
       "</style>\n",
       "<table border=\"1\" class=\"dataframe\">\n",
       "  <thead>\n",
       "    <tr style=\"text-align: right;\">\n",
       "      <th></th>\n",
       "      <th>Sexe</th>\n",
       "      <th>Salaire</th>\n",
       "      <th>Categorie</th>\n",
       "      <th>Age</th>\n",
       "      <th>Etablissement</th>\n",
       "    </tr>\n",
       "  </thead>\n",
       "  <tbody>\n",
       "    <tr>\n",
       "      <th>0</th>\n",
       "      <td>H</td>\n",
       "      <td>140</td>\n",
       "      <td>CS</td>\n",
       "      <td>58</td>\n",
       "      <td>A</td>\n",
       "    </tr>\n",
       "    <tr>\n",
       "      <th>1</th>\n",
       "      <td>F</td>\n",
       "      <td>120</td>\n",
       "      <td>CS</td>\n",
       "      <td>55</td>\n",
       "      <td>A</td>\n",
       "    </tr>\n",
       "    <tr>\n",
       "      <th>2</th>\n",
       "      <td>H</td>\n",
       "      <td>118</td>\n",
       "      <td>CS</td>\n",
       "      <td>50</td>\n",
       "      <td>C</td>\n",
       "    </tr>\n",
       "    <tr>\n",
       "      <th>3</th>\n",
       "      <td>H</td>\n",
       "      <td>117</td>\n",
       "      <td>CS</td>\n",
       "      <td>44</td>\n",
       "      <td>C</td>\n",
       "    </tr>\n",
       "    <tr>\n",
       "      <th>4</th>\n",
       "      <td>H</td>\n",
       "      <td>117</td>\n",
       "      <td>CS</td>\n",
       "      <td>45</td>\n",
       "      <td>B</td>\n",
       "    </tr>\n",
       "  </tbody>\n",
       "</table>\n",
       "</div>"
      ],
      "text/plain": [
       "  Sexe  Salaire Categorie  Age Etablissement\n",
       "0    H      140        CS   58             A\n",
       "1    F      120        CS   55             A\n",
       "2    H      118        CS   50             C\n",
       "3    H      117        CS   44             C\n",
       "4    H      117        CS   45             B"
      ]
     },
     "execution_count": 42,
     "metadata": {},
     "output_type": "execute_result"
    }
   ],
   "source": [
    "df.head()"
   ]
  },
  {
   "cell_type": "code",
   "execution_count": 43,
   "metadata": {},
   "outputs": [
    {
     "data": {
      "text/html": [
       "<div>\n",
       "<style scoped>\n",
       "    .dataframe tbody tr th:only-of-type {\n",
       "        vertical-align: middle;\n",
       "    }\n",
       "\n",
       "    .dataframe tbody tr th {\n",
       "        vertical-align: top;\n",
       "    }\n",
       "\n",
       "    .dataframe thead th {\n",
       "        text-align: right;\n",
       "    }\n",
       "</style>\n",
       "<table border=\"1\" class=\"dataframe\">\n",
       "  <thead>\n",
       "    <tr style=\"text-align: right;\">\n",
       "      <th></th>\n",
       "      <th>Sexe</th>\n",
       "      <th>Salaire</th>\n",
       "      <th>Categorie</th>\n",
       "      <th>Age</th>\n",
       "      <th>Etablissement</th>\n",
       "    </tr>\n",
       "  </thead>\n",
       "  <tbody>\n",
       "    <tr>\n",
       "      <th>125</th>\n",
       "      <td>F</td>\n",
       "      <td>18</td>\n",
       "      <td>OE</td>\n",
       "      <td>18</td>\n",
       "      <td>B</td>\n",
       "    </tr>\n",
       "    <tr>\n",
       "      <th>126</th>\n",
       "      <td>H</td>\n",
       "      <td>18</td>\n",
       "      <td>OE</td>\n",
       "      <td>19</td>\n",
       "      <td>A</td>\n",
       "    </tr>\n",
       "    <tr>\n",
       "      <th>127</th>\n",
       "      <td>H</td>\n",
       "      <td>18</td>\n",
       "      <td>OE</td>\n",
       "      <td>20</td>\n",
       "      <td>A</td>\n",
       "    </tr>\n",
       "    <tr>\n",
       "      <th>128</th>\n",
       "      <td>H</td>\n",
       "      <td>18</td>\n",
       "      <td>OE</td>\n",
       "      <td>18</td>\n",
       "      <td>A</td>\n",
       "    </tr>\n",
       "    <tr>\n",
       "      <th>129</th>\n",
       "      <td>F</td>\n",
       "      <td>18</td>\n",
       "      <td>OE</td>\n",
       "      <td>18</td>\n",
       "      <td>B</td>\n",
       "    </tr>\n",
       "  </tbody>\n",
       "</table>\n",
       "</div>"
      ],
      "text/plain": [
       "    Sexe  Salaire Categorie  Age Etablissement\n",
       "125    F       18        OE   18             B\n",
       "126    H       18        OE   19             A\n",
       "127    H       18        OE   20             A\n",
       "128    H       18        OE   18             A\n",
       "129    F       18        OE   18             B"
      ]
     },
     "execution_count": 43,
     "metadata": {},
     "output_type": "execute_result"
    }
   ],
   "source": [
    "df.tail()"
   ]
  },
  {
   "cell_type": "code",
   "execution_count": 44,
   "metadata": {},
   "outputs": [
    {
     "data": {
      "text/plain": [
       "(130, 5)"
      ]
     },
     "execution_count": 44,
     "metadata": {},
     "output_type": "execute_result"
    }
   ],
   "source": [
    "df.shape"
   ]
  },
  {
   "cell_type": "code",
   "execution_count": 45,
   "metadata": {},
   "outputs": [
    {
     "data": {
      "text/plain": [
       "Sexe             object\n",
       "Salaire           int64\n",
       "Categorie        object\n",
       "Age               int64\n",
       "Etablissement    object\n",
       "dtype: object"
      ]
     },
     "execution_count": 45,
     "metadata": {},
     "output_type": "execute_result"
    }
   ],
   "source": [
    "df.dtypes"
   ]
  },
  {
   "cell_type": "code",
   "execution_count": 46,
   "metadata": {},
   "outputs": [
    {
     "name": "stdout",
     "output_type": "stream",
     "text": [
      "<class 'pandas.core.frame.DataFrame'>\n",
      "RangeIndex: 130 entries, 0 to 129\n",
      "Data columns (total 5 columns):\n",
      " #   Column         Non-Null Count  Dtype \n",
      "---  ------         --------------  ----- \n",
      " 0   Sexe           130 non-null    object\n",
      " 1   Salaire        130 non-null    int64 \n",
      " 2   Categorie      130 non-null    object\n",
      " 3   Age            130 non-null    int64 \n",
      " 4   Etablissement  130 non-null    object\n",
      "dtypes: int64(2), object(3)\n",
      "memory usage: 5.2+ KB\n"
     ]
    }
   ],
   "source": [
    "df.info()"
   ]
  },
  {
   "cell_type": "code",
   "execution_count": 47,
   "metadata": {},
   "outputs": [
    {
     "name": "stdout",
     "output_type": "stream",
     "text": [
      "<class 'pandas.core.frame.DataFrame'>\n",
      "RangeIndex: 130 entries, 0 to 129\n",
      "Data columns (total 5 columns):\n",
      " #   Column         Non-Null Count  Dtype   \n",
      "---  ------         --------------  -----   \n",
      " 0   Sexe           130 non-null    category\n",
      " 1   Salaire        130 non-null    int64   \n",
      " 2   Categorie      130 non-null    category\n",
      " 3   Age            130 non-null    int64   \n",
      " 4   Etablissement  130 non-null    object  \n",
      "dtypes: category(2), int64(2), object(1)\n",
      "memory usage: 3.7+ KB\n"
     ]
    },
    {
     "name": "stderr",
     "output_type": "stream",
     "text": [
      "/tmp/ipykernel_8315/618065425.py:4: UserWarning: Pandas doesn't allow columns to be created via a new attribute name - see https://pandas.pydata.org/pandas-docs/stable/indexing.html#attribute-access\n",
      "  df.Prescription = df[\"Etablissement\"].astype(\"category\")\n"
     ]
    }
   ],
   "source": [
    "# Changement de type\n",
    "df.Sexe = df[\"Sexe\"].astype(\"category\")\n",
    "df.Categorie = df[\"Categorie\"].astype(\"category\")\n",
    "df.Prescription = df[\"Etablissement\"].astype(\"category\")\n",
    "\n",
    "df.info()"
   ]
  },
  {
   "cell_type": "code",
   "execution_count": 48,
   "metadata": {},
   "outputs": [
    {
     "data": {
      "text/plain": [
       "Index(['Sexe', 'Salaire', 'Categorie', 'Age', 'Etablissement'], dtype='object')"
      ]
     },
     "execution_count": 48,
     "metadata": {},
     "output_type": "execute_result"
    }
   ],
   "source": [
    "df.columns"
   ]
  },
  {
   "cell_type": "markdown",
   "metadata": {},
   "source": [
    "Explication des variables :\n",
    "- Sexe : Sexe de l'mployé\n",
    "- Salaire : Salaire de l'employé\n",
    "- Categorie : Catégorie socio-professionnelle de l'employé\n",
    "- Age : Age de l'employé\n",
    "- Etablissement : Etablissement auquel l'employé est rattaché"
   ]
  },
  {
   "cell_type": "code",
   "execution_count": 49,
   "metadata": {},
   "outputs": [
    {
     "data": {
      "text/plain": [
       "Sexe             0\n",
       "Salaire          0\n",
       "Categorie        0\n",
       "Age              0\n",
       "Etablissement    0\n",
       "dtype: int64"
      ]
     },
     "execution_count": 49,
     "metadata": {},
     "output_type": "execute_result"
    }
   ],
   "source": [
    "df.isnull().sum()"
   ]
  },
  {
   "cell_type": "markdown",
   "metadata": {},
   "source": [
    "Le jeu de données n'a pas l'air de présenter de données manquantes."
   ]
  },
  {
   "cell_type": "code",
   "execution_count": 50,
   "metadata": {},
   "outputs": [
    {
     "name": "stdout",
     "output_type": "stream",
     "text": [
      "SEXE :['H', 'F']\n",
      "Categories (2, object): ['F', 'H'] \n",
      "SALAIRE :[140 120 118 117 115 114 113  95  60  58  56  55  50  49  45  43  42  38\n",
      "  35  32  30  28  27  26  25  24  23  22  21  20  19  18] \n",
      "CATEGORIE :['CS', 'CM', 'OE']\n",
      "Categories (3, object): ['CM', 'CS', 'OE'] \n",
      "AGE :[58 55 50 44 45 42 51 59 56 48 40 39 37 35 33 38 32 54 52 29 27 28 30 34\n",
      " 47 31 24 25 22 41 21 20 23 19 18] \n",
      "ETABLISSEMENT :['A' 'C' 'B'] \n"
     ]
    }
   ],
   "source": [
    "list_col = df.columns\n",
    "\n",
    "for col in list_col: \n",
    "    print('{} :{} ' . format(col.upper(), df[col].unique()))"
   ]
  },
  {
   "cell_type": "code",
   "execution_count": 51,
   "metadata": {},
   "outputs": [
    {
     "data": {
      "text/plain": [
       "Sexe  Categorie\n",
       "H     OE           66\n",
       "F     OE           34\n",
       "H     CM           17\n",
       "      CS            8\n",
       "F     CM            3\n",
       "      CS            2\n",
       "Name: count, dtype: int64"
      ]
     },
     "execution_count": 51,
     "metadata": {},
     "output_type": "execute_result"
    }
   ],
   "source": [
    "df[['Sexe','Categorie']].value_counts()"
   ]
  },
  {
   "cell_type": "code",
   "execution_count": 52,
   "metadata": {},
   "outputs": [
    {
     "name": "stdout",
     "output_type": "stream",
     "text": [
      "    Sexe  Salaire Categorie  Age Etablissement\n",
      "0      H      140        CS   58             A\n",
      "1      F      120        CS   55             A\n",
      "2      H      118        CS   50             C\n",
      "3      H      117        CS   44             C\n",
      "4      H      117        CS   45             B\n",
      "..   ...      ...       ...  ...           ...\n",
      "125    F       18        OE   18             B\n",
      "126    H       18        OE   19             A\n",
      "127    H       18        OE   20             A\n",
      "128    H       18        OE   18             A\n",
      "129    F       18        OE   18             B\n",
      "\n",
      "[130 rows x 5 columns]\n"
     ]
    }
   ],
   "source": [
    "print(df)"
   ]
  },
  {
   "cell_type": "markdown",
   "metadata": {},
   "source": [
    "## Variable Catégorie"
   ]
  },
  {
   "cell_type": "markdown",
   "metadata": {},
   "source": [
    "### Décomposition de la variance"
   ]
  },
  {
   "cell_type": "code",
   "execution_count": 53,
   "metadata": {},
   "outputs": [
    {
     "name": "stdout",
     "output_type": "stream",
     "text": [
      "  Site  Effectif  Moyenne  Variance  Médiane      Q1      Q3       m       M\n",
      "0   CS      10.0   116.40  105.2400    116.0  114.25  117.75  109.00  123.00\n",
      "1   CM      20.0    41.40  128.9400     42.5   29.50   50.00   -1.25   80.75\n",
      "2   OE     100.0    21.73    5.9771     22.0   20.00   24.00   14.00   30.00\n",
      "\n",
      "Variance intra    = 32.53007692307692\n",
      "Variance inter    = 642.6761360946745\n",
      "Somme inter+intra = 675.2062130177513\n",
      "Rapport           = 0.9518220118596247\n"
     ]
    }
   ],
   "source": [
    "import pandas as pd\n",
    "\n",
    "# Calculs préparatoires\n",
    "eff_total = df['Salaire'].describe()['count']\n",
    "mean_total = df['Salaire'].describe()['mean']\n",
    "var_total = df['Salaire'].describe()['std'] * df['Salaire'].describe()['std'] * (eff_total - 1) / eff_total\n",
    "\n",
    "# Initialisation de variables\n",
    "var_intra = 0 # Variance intra-classes\n",
    "var_inter = 0 # Variance inter-classes\n",
    "\n",
    "# Initialisation de la liste pour les données du tableau\n",
    "data = []\n",
    "\n",
    "# Pour chaque catégorie\n",
    "for site in df['Categorie'].unique():\n",
    "    # Initialisation des données du site à traiter\n",
    "    df_site = df[df['Categorie'] == site]\n",
    "\n",
    "    # Récapitulatif sur les données du site\n",
    "    list_site = df_site['Salaire']\n",
    "    eff_site = list_site.describe()['count']\n",
    "    mean_site = list_site.describe()['mean']\n",
    "    var_site = sum((i - mean_site) ** 2 for i in list_site) / eff_site\n",
    "    m_site = df_site['Salaire'].describe()['25%'] - 1.5*(df_site['Salaire'].describe()['75%'] - df_site['Salaire'].describe()['25%'])\n",
    "    M_site = df_site['Salaire'].describe()['75%'] + 1.5*(df_site['Salaire'].describe()['75%'] - df_site['Salaire'].describe()['25%'])\n",
    "\n",
    "    # Ajouter les informations dans le tableau\n",
    "    data.append({\n",
    "        \"Site\": site,\n",
    "        \"Effectif\": eff_site,\n",
    "        \"Moyenne\": mean_site,\n",
    "        \"Variance\": var_site,\n",
    "        \"Médiane\": list_site.describe()['50%'],\n",
    "        \"Q1\": list_site.describe()['25%'],\n",
    "        \"Q3\": list_site.describe()['75%'],\n",
    "        \"m\": m_site,\n",
    "        \"M\": M_site\n",
    "    })\n",
    "\n",
    "    # Mise à jour des variances\n",
    "    var_intra += eff_site * var_site\n",
    "    var_inter += eff_site * ((mean_site - mean_total) ** 2)\n",
    "\n",
    "# Mise à jour des variances\n",
    "var_intra /= eff_total\n",
    "var_inter /= eff_total\n",
    "\n",
    "# Créer le DataFrame avec les données\n",
    "df_result = pd.DataFrame(data)\n",
    "\n",
    "# Afficher le tableau\n",
    "print(df_result)\n",
    "\n",
    "# Afficher les calculs finaux\n",
    "print(\"\\nVariance intra    =\", var_intra)\n",
    "print(\"Variance inter    =\", var_inter)\n",
    "print(\"Somme inter+intra =\", var_intra + var_inter)\n",
    "print(\"Rapport           =\", var_inter / var_total)"
   ]
  },
  {
   "cell_type": "markdown",
   "metadata": {},
   "source": [
    "### Boîtes de Tukey"
   ]
  },
  {
   "cell_type": "code",
   "execution_count": 54,
   "metadata": {},
   "outputs": [
    {
     "name": "stderr",
     "output_type": "stream",
     "text": [
      "/tmp/ipykernel_8315/2735976106.py:3: FutureWarning: \n",
      "\n",
      "Passing `palette` without assigning `hue` is deprecated and will be removed in v0.14.0. Assign the `x` variable to `hue` and set `legend=False` for the same effect.\n",
      "\n",
      "  sns.boxplot(x='Categorie', y='Salaire', data=df, showmeans=True, meanprops={'marker':'x','markeredgecolor':'black','markersize':'8'}, palette=[\"r\", \"g\", \"b\"])\n",
      "No artists with labels found to put in legend.  Note that artists whose label start with an underscore are ignored when legend() is called with no argument.\n"
     ]
    },
    {
     "data": {
      "image/png": "[encoded data removed]",
      "text/plain": [
       "<Figure size 1000x600 with 1 Axes>"
      ]
     },
     "metadata": {},
     "output_type": "display_data"
    }
   ],
   "source": [
    "# Création d'un graphique avec des boîtes de Tuckey pour chaque catégorie\n",
    "plt.figure(figsize=(10, 6))\n",
    "sns.boxplot(x='Categorie', y='Salaire', data=df, showmeans=True, meanprops={'marker':'x','markeredgecolor':'black','markersize':'8'}, palette=[\"r\", \"g\", \"b\"])\n",
    "plt.title('Salaires en fonction de la catégorie')\n",
    "plt.xlabel('Catégorie')\n",
    "plt.ylabel('Salaire')\n",
    "plt.legend()\n",
    "plt.grid(True)\n",
    "\n",
    "# Affichage du graphique\n",
    "plt.show()"
   ]
  },
  {
   "cell_type": "markdown",
   "metadata": {},
   "source": [
    "Les indicateurs de tendance (moyenne et médiane) augmente naturellement avec la catégorie. Les deux indicateurs sont à peu près égaux, ce qui implique une distribution symétrique des salaires de part et d'autre de la tendance centrale.\n",
    "\n",
    "On note très peu de dispersion dans les catégories extrêmes. Ce qui signifie qu'il n'y a pas beaucoup de différences de salaires dans ces catégories. On note toutefois deux éléments atypiques dans la catégorie CS. A contrario la dispersion est très grande dans la catégorie intermédiaire qui implique certainement des profils très différents."
   ]
  },
  {
   "cell_type": "markdown",
   "metadata": {},
   "source": [
    "## Variable Site"
   ]
  },
  {
   "cell_type": "markdown",
   "metadata": {},
   "source": [
    "### Décomposition de la variance"
   ]
  },
  {
   "cell_type": "code",
   "execution_count": 55,
   "metadata": {},
   "outputs": [
    {
     "name": "stdout",
     "output_type": "stream",
     "text": [
      "  Site  Effectif    Moyenne     Variance  Médiane    Q1     Q3       m       M\n",
      "0    A      60.0  30.800000   618.026667     22.0  21.0  25.00  15.000  31.000\n",
      "1    C      30.0  38.133333  1010.382222     24.0  22.0  33.00   5.500  49.500\n",
      "2    B      40.0  29.325000   472.069375     21.5  19.0  26.25   8.125  37.125\n",
      "\n",
      "Variance intra    = 663.6603205128207\n",
      "Variance inter    = 11.545892504930965\n",
      "Somme inter+intra = 675.2062130177517\n",
      "Rapport           = 0.017099801930625037\n"
     ]
    }
   ],
   "source": [
    "# Calculs préparatoires\n",
    "eff_total = df['Salaire'].describe()['count']\n",
    "mean_total = df['Salaire'].describe()['mean']\n",
    "var_total = df['Salaire'].describe()['std'] * df['Salaire'].describe()['std'] * (eff_total - 1) / eff_total\n",
    "\n",
    "# Initialisation de variables\n",
    "var_intra = 0 # Variance intra-classes\n",
    "var_inter = 0 # Variance inter-classes\n",
    "\n",
    "# Initialisation de la liste pour les données du tableau\n",
    "data = []\n",
    "\n",
    "# Pour chaque site\n",
    "for site in df['Etablissement'].unique():\n",
    "    # Initialisation des données du site à traiter\n",
    "    df_site = df[df['Etablissement'] == site]\n",
    "\n",
    "    # Récapitulatif sur les données du site\n",
    "    list_site = df_site['Salaire']\n",
    "    eff_site = list_site.describe()['count']\n",
    "    mean_site = list_site.describe()['mean']\n",
    "    var_site = sum((i - mean_site) ** 2 for i in list_site) / eff_site\n",
    "    m_site = df_site['Salaire'].describe()['25%'] - 1.5*(df_site['Salaire'].describe()['75%'] - df_site['Salaire'].describe()['25%'])\n",
    "    M_site = df_site['Salaire'].describe()['75%'] + 1.5*(df_site['Salaire'].describe()['75%'] - df_site['Salaire'].describe()['25%'])\n",
    "\n",
    "    data.append({\n",
    "        \"Site\": site,\n",
    "        \"Effectif\": eff_site,\n",
    "        \"Moyenne\": mean_site,\n",
    "        \"Variance\": var_site,\n",
    "        \"Médiane\": list_site.describe()['50%'],\n",
    "        \"Q1\": list_site.describe()['25%'],\n",
    "        \"Q3\": list_site.describe()['75%'],\n",
    "        \"m\": m_site,\n",
    "        \"M\": M_site\n",
    "    })\n",
    "\n",
    "    # Mise à jour des variances\n",
    "    var_intra += eff_site*var_site\n",
    "    var_inter += eff_site*((mean_site - mean_total)**2)\n",
    "\n",
    "# Mise à jour des variances\n",
    "var_intra /= eff_total\n",
    "var_inter /= eff_total\n",
    "\n",
    "# Créer le DataFrame avec les données\n",
    "df_result = pd.DataFrame(data)\n",
    "\n",
    "# Afficher le tableau\n",
    "print(df_result)\n",
    "\n",
    "# Affichage de messages\n",
    "print(\"\\nVariance intra    = \" + str(var_intra))\n",
    "print(\"Variance inter    = \" + str(var_inter))\n",
    "print(\"Somme inter+intra = \" + str(var_intra + var_inter))\n",
    "print(\"Rapport           = \" + str(var_inter / var_total))"
   ]
  },
  {
   "cell_type": "markdown",
   "metadata": {},
   "source": [
    "### Boîtes de Tukey"
   ]
  },
  {
   "cell_type": "code",
   "execution_count": 56,
   "metadata": {},
   "outputs": [
    {
     "name": "stderr",
     "output_type": "stream",
     "text": [
      "/tmp/ipykernel_8315/4058400615.py:3: FutureWarning: \n",
      "\n",
      "Passing `palette` without assigning `hue` is deprecated and will be removed in v0.14.0. Assign the `x` variable to `hue` and set `legend=False` for the same effect.\n",
      "\n",
      "  sns.boxplot(x='Etablissement', y='Salaire', data=df, showmeans=True, meanprops={'marker':'x','markeredgecolor':'black','markersize':'8'}, palette=[\"r\", \"g\", \"b\"])\n",
      "No artists with labels found to put in legend.  Note that artists whose label start with an underscore are ignored when legend() is called with no argument.\n"
     ]
    },
    {
     "data": {
      "image/png": "[encoded data removed]",
      "text/plain": [
       "<Figure size 1000x600 with 1 Axes>"
      ]
     },
     "metadata": {},
     "output_type": "display_data"
    }
   ],
   "source": [
    "# Création d'un graphique avec des boîtes de Tuckey pour chaque catégorie\n",
    "plt.figure(figsize=(10, 6))\n",
    "sns.boxplot(x='Etablissement', y='Salaire', data=df, showmeans=True, meanprops={'marker':'x','markeredgecolor':'black','markersize':'8'}, palette=[\"r\", \"g\", \"b\"])\n",
    "plt.title('Salaires en fonction du site')\n",
    "plt.xlabel('Catégorie')\n",
    "plt.ylabel('Site')\n",
    "plt.legend()\n",
    "plt.grid(True)\n",
    "\n",
    "# Affichage du graphique\n",
    "plt.show()"
   ]
  },
  {
   "cell_type": "markdown",
   "metadata": {},
   "source": [
    "Les indicateurs de tendance (moyenne et médiane) sont du même ordre de grandeur sur les trois sites. \n",
    "On note que le salaire médian est à une vingtaine de K€ alors que le salaire moyen est à une trentaine de K€. La distribution des salaires est donc asymétrique. Les petits salaires sont regroupés proches de la médiane tandis que le salaire moyen est attiré par les très hauts salaires. Cette observations est confirmée avec les nombreux  hauts salaires atypiques .\n",
    "\n",
    "Maintenant, sur quel site vaut-il mieux travailler ? Si l'on souhaite un salaire plus équitable et mieux réparti entre les salariés, le site B sera plus intéressant. Par contre, si l'on souhaite un meilleur salaire, alors il vaut mieux se diriger vers le C car le salaire minimum (Q1) est supérieur aux autres sites, de même que le salaire moyen."
   ]
  }
 ],
 "metadata": {
  "kernelspec": {
   "display_name": "Python 3",
   "language": "python",
   "name": "python3"
  },
  "language_info": {
   "codemirror_mode": {
    "name": "ipython",
    "version": 3
   },
   "file_extension": ".py",
   "mimetype": "text/x-python",
   "name": "python",
   "nbconvert_exporter": "python",
   "pygments_lexer": "ipython3",
   "version": "3.8.10"
  }
 },
 "nbformat": 4,
 "nbformat_minor": 2
}
