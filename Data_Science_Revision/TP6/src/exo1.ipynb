{
 "cells": [
  {
   "cell_type": "markdown",
   "metadata": {},
   "source": [
    "# Thématique 6 - Le Clustering"
   ]
  },
  {
   "cell_type": "markdown",
   "metadata": {},
   "source": [
    "### Importation des librairies"
   ]
  },
  {
   "cell_type": "code",
   "execution_count": 2,
   "metadata": {},
   "outputs": [],
   "source": [
    "import numpy as np\n",
    "import matplotlib.pyplot as plt"
   ]
  },
  {
   "cell_type": "markdown",
   "metadata": {},
   "source": [
    "## Algorithme des K-means"
   ]
  },
  {
   "cell_type": "code",
   "execution_count": 3,
   "metadata": {},
   "outputs": [
    {
     "name": "stdout",
     "output_type": "stream",
     "text": [
      "Cas 1 :\n",
      "\n",
      "Clusters: [0 0 0 1 1]\n",
      "Centre de gravité : 8.8\n",
      "Centres finaux: [ 4. 16.]\n",
      "Inertie totale: 242.8\n",
      "Inertie inter-cluster: 172.8\n",
      "Pourcentage d'inertie expliquée : 71.17%\n",
      "\n",
      "L'algorithme des k-means a partitionné les points en deux clusters :\n",
      "  - Cluster 0 : [1 2 9] avec un centre de gravité final de 4.\n",
      "  - Cluster 1 : [12 20] avec un centre de gravité final de 16.\n",
      "\n",
      "Le pourcentage d'inertie expliquée par cette partition est d'environ 71.17%.\n",
      "Cela signifie que cette partition explique 71.17% de la variance totale des données.\n",
      "\n",
      "Cas 2 :\n",
      "\n",
      "Clusters: [0 0 1 1 1]\n",
      "Centre de gravité : 8.8\n",
      "Centres finaux: [ 1.5        13.66666667]\n",
      "Inertie totale: 242.8\n",
      "Inertie inter-cluster: 177.63333333333333\n",
      "Pourcentage d'inertie expliquée : 73.16%\n",
      "\n",
      "L'algorithme des k-means a partitionné les points en deux clusters :\n",
      "  - Cluster 0 : [1 2] avec un centre de gravité final de 1.5.\n",
      "  - Cluster 1 : [ 9 12 20] avec un centre de gravité final de 13.666666666666666.\n",
      "\n",
      "Le pourcentage d'inertie expliquée par cette partition est d'environ 73.16%.\n",
      "Cela signifie que cette partition explique 73.16% de la variance totale des données.\n",
      "\n",
      "Cas 3 :\n",
      "\n",
      "Clusters: [0 0 1 1 2]\n",
      "Centre de gravité : 8.8\n",
      "Centres finaux: [ 1.5 10.5 20. ]\n",
      "Inertie totale: 242.8\n",
      "Inertie inter-cluster: 237.8\n",
      "Pourcentage d'inertie expliquée : 97.94%\n",
      "\n",
      "L'algorithme des k-means a partitionné les points en deux clusters :\n",
      "  - Cluster 0 : [1 2] avec un centre de gravité final de 1.5.\n",
      "  - Cluster 1 : [ 9 12] avec un centre de gravité final de 10.5.\n",
      "  - Cluster 2 : [20] avec un centre de gravité final de 20.\n",
      "\n",
      "Le pourcentage d'inertie expliquée par cette partition est d'environ 97.94%.\n",
      "Cela signifie que cette partition explique 97.94% de la variance totale des données.\n",
      "\n"
     ]
    }
   ],
   "source": [
    "from sklearn.cluster import KMeans\n",
    "\n",
    "# Initialisation de varibales\n",
    "x = [1, 2, 9, 12, 20]                           # Points\n",
    "k = [2, 2, 3]                                   # Nombre de clusters\n",
    "g = [[[1], [20]], [[2], [9]], [[1], [9], [12]]] # Centres de gravité\n",
    "\n",
    "for i in range(len(g)):\n",
    "    # Préparation des données\n",
    "    x = np.array(x).reshape(-1, 1)\n",
    "    g_centers = np.array(g[i])\n",
    "\n",
    "    # k-means avec 2 clusters\n",
    "    kmeans = KMeans(n_clusters=k[i], init=g_centers, n_init=1, max_iter=100, random_state=0)\n",
    "    kmeans.fit(x)\n",
    "\n",
    "    # Centres finaux\n",
    "    centers = kmeans.cluster_centers_\n",
    "\n",
    "    # Calcul de l'inertie totale et intra-cluster\n",
    "    inertie_intra = kmeans.inertia_                # Inertie intra-cluster\n",
    "    inertie_totale = np.sum((x - np.mean(x)) ** 2) # Inertie totale\n",
    "    inertie_inter = inertie_totale - inertie_intra # Inertie inter-cluster\n",
    "\n",
    "    # Calcul du pourcentage d'inertie expliquée\n",
    "    inertie_expliquee = 1 - (inertie_intra / inertie_totale)\n",
    "\n",
    "    # Afficher les résultats\n",
    "    print(f\"Cas {i+1} :\\n\")\n",
    "    print(\"Clusters:\", kmeans.labels_)\n",
    "    print(\"Centre de gravité :\", np.mean(x))\n",
    "    print(\"Centres finaux:\", centers.flatten())\n",
    "    print(\"Inertie totale:\", inertie_totale)\n",
    "    print(\"Inertie inter-cluster:\", inertie_inter)\n",
    "    print(f\"Pourcentage d'inertie expliquée : {round(inertie_expliquee * 100, 2)}%\")\n",
    "    print()\n",
    "    print(f\"L'algorithme des k-means a partitionné les points en {k[i]} clusters :\")\n",
    "    for j in range(k[i]):\n",
    "        # Extraction des valeurs associées au cluster i\n",
    "        cluster_points = x[kmeans.labels_ == j].flatten()\n",
    "        center_value = int(centers[j]) if centers[j] % 1 == 0 else float(centers[j])\n",
    "        print(f\"  - Cluster {j} : {cluster_points} avec un centre de gravité final de {center_value}.\")\n",
    "    print()\n",
    "    print(f\"Le pourcentage d'inertie expliquée par cette partition est d'environ {round(inertie_expliquee * 100, 2)}%.\")\n",
    "    print(f\"Cela signifie que cette partition explique {round(inertie_expliquee * 100, 2)}% de la variance totale des données.\")\n",
    "    print()"
   ]
  },
  {
   "cell_type": "markdown",
   "metadata": {},
   "source": [
    "Peut-on utiliser l’inertie inter-classes pour déterminer le meilleur regroupement des deux?\n",
    "\n",
    "Le critère permet de départager les deux partitions à 2 classes, la meilleure étant la première. En revanche, il ne peut \n",
    "pas être utilisé pour comparer des partitions n’ayant pas le même nombre de classes. En effet, plus le nombre de classes \n",
    "augmente, plus le pourcentage d’inertie expliquée augmente. Le cas extrême est un nombre de classes égal au nombre \n",
    "d’individus et dans ce cas le pourcentage d’inertie expliquée est 100% (cf. formule de l’inertie intra = 0). Et pourtant, ce \n",
    "partitionnement n’est pas souhaitable. Il faut donc trouver un compromis entre un pourcentage élevé et un nombre de \n",
    "classes faible."
   ]
  },
  {
   "cell_type": "markdown",
   "metadata": {},
   "source": [
    "## Algorithme de Classification Hiérarchique Ascendante (CAH)"
   ]
  },
  {
   "cell_type": "code",
   "execution_count": 4,
   "metadata": {},
   "outputs": [
    {
     "data": {
      "image/png": "[encoded data removed]",
      "text/plain": [
       "<Figure size 640x480 with 1 Axes>"
      ]
     },
     "metadata": {},
     "output_type": "display_data"
    }
   ],
   "source": [
    "from scipy.cluster.hierarchy import dendrogram, linkage\n",
    "\n",
    "# Matrice des liens\n",
    "Z = linkage(x, method='single', metric='euclidean')\n",
    "\n",
    "# Création d'étiquettes\n",
    "labels = [f'x{i+1}' for i in range(len(x))]\n",
    "\n",
    "# Affichage du dendrogramme\n",
    "plt.title(\"Dendogramme par la méthode CAH\")\n",
    "dendrogram(Z, labels=labels)\n",
    "plt.xlabel('Points')\n",
    "plt.ylabel('Distances minimales')\n",
    "plt.show()"
   ]
  },
  {
   "cell_type": "markdown",
   "metadata": {},
   "source": [
    "L'algorithme CAH propose deux splits : \n",
    "  - (1) : {x1, x2} et {x3, x4, x5}\n",
    "  - (2) : {x1, x2}, {x3, x4} et {x5}\n",
    "  - (3) : {x1, x2, x3, x4} et {x5}\n",
    "\n",
    "Le meilleur split est le (2) car malgré tout, les deux clusters ont une distance minimale assez faible, ce qui permet de garder le split (2). Raison pour laquelle (3) n'est pas envisageable, la distance minimale est bien trop élevée."
   ]
  }
 ],
 "metadata": {
  "kernelspec": {
   "display_name": "Python 3",
   "language": "python",
   "name": "python3"
  },
  "language_info": {
   "codemirror_mode": {
    "name": "ipython",
    "version": 3
   },
   "file_extension": ".py",
   "mimetype": "text/x-python",
   "name": "python",
   "nbconvert_exporter": "python",
   "pygments_lexer": "ipython3",
   "version": "3.8.10"
  }
 },
 "nbformat": 4,
 "nbformat_minor": 2
}
