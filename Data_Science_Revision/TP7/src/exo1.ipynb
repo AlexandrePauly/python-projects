{
 "cells": [
  {
   "cell_type": "markdown",
   "metadata": {},
   "source": [
    "# Thématique 7 - Les règles d’association"
   ]
  },
  {
   "cell_type": "markdown",
   "metadata": {},
   "source": [
    "### Importation des librairies"
   ]
  },
  {
   "cell_type": "code",
   "execution_count": 31,
   "metadata": {},
   "outputs": [],
   "source": [
    "import os\n",
    "import numpy as np\n",
    "import pandas as pd\n",
    "import matplotlib.pyplot as plt\n",
    "import seaborn as sns"
   ]
  },
  {
   "cell_type": "markdown",
   "metadata": {},
   "source": [
    "### Data pre-processing"
   ]
  },
  {
   "cell_type": "code",
   "execution_count": 32,
   "metadata": {},
   "outputs": [
    {
     "data": {
      "text/html": [
       "<div>\n",
       "<style scoped>\n",
       "    .dataframe tbody tr th:only-of-type {\n",
       "        vertical-align: middle;\n",
       "    }\n",
       "\n",
       "    .dataframe tbody tr th {\n",
       "        vertical-align: top;\n",
       "    }\n",
       "\n",
       "    .dataframe thead th {\n",
       "        text-align: right;\n",
       "    }\n",
       "</style>\n",
       "<table border=\"1\" class=\"dataframe\">\n",
       "  <thead>\n",
       "    <tr style=\"text-align: right;\">\n",
       "      <th></th>\n",
       "      <th>Transactions</th>\n",
       "      <th>Items</th>\n",
       "    </tr>\n",
       "  </thead>\n",
       "  <tbody>\n",
       "    <tr>\n",
       "      <th>count</th>\n",
       "      <td>6</td>\n",
       "      <td>6</td>\n",
       "    </tr>\n",
       "    <tr>\n",
       "      <th>unique</th>\n",
       "      <td>6</td>\n",
       "      <td>5</td>\n",
       "    </tr>\n",
       "    <tr>\n",
       "      <th>top</th>\n",
       "      <td>T1</td>\n",
       "      <td>HotDogs, Coca, Chips</td>\n",
       "    </tr>\n",
       "    <tr>\n",
       "      <th>freq</th>\n",
       "      <td>1</td>\n",
       "      <td>2</td>\n",
       "    </tr>\n",
       "  </tbody>\n",
       "</table>\n",
       "</div>"
      ],
      "text/plain": [
       "       Transactions                 Items\n",
       "count             6                     6\n",
       "unique            6                     5\n",
       "top              T1  HotDogs, Coca, Chips\n",
       "freq              1                     2"
      ]
     },
     "execution_count": 32,
     "metadata": {},
     "output_type": "execute_result"
    }
   ],
   "source": [
    "# Préparation du fichier de données\n",
    "filepath = \"../data\"\n",
    "filename = \"transactions.csv\"\n",
    "file = os.path.join(filepath, filename)\n",
    "\n",
    "# Lecture des données\n",
    "df_original = pd.read_csv(file, delimiter=\";\")\n",
    "df = df_original.copy()\n",
    "\n",
    "# Affichage des indicateurs de positions et de dispersions\n",
    "df.describe()"
   ]
  },
  {
   "cell_type": "code",
   "execution_count": 33,
   "metadata": {},
   "outputs": [
    {
     "data": {
      "text/html": [
       "<div>\n",
       "<style scoped>\n",
       "    .dataframe tbody tr th:only-of-type {\n",
       "        vertical-align: middle;\n",
       "    }\n",
       "\n",
       "    .dataframe tbody tr th {\n",
       "        vertical-align: top;\n",
       "    }\n",
       "\n",
       "    .dataframe thead th {\n",
       "        text-align: right;\n",
       "    }\n",
       "</style>\n",
       "<table border=\"1\" class=\"dataframe\">\n",
       "  <thead>\n",
       "    <tr style=\"text-align: right;\">\n",
       "      <th></th>\n",
       "      <th>Transactions</th>\n",
       "      <th>Items</th>\n",
       "    </tr>\n",
       "  </thead>\n",
       "  <tbody>\n",
       "    <tr>\n",
       "      <th>0</th>\n",
       "      <td>T1</td>\n",
       "      <td>HotDogs, Buns, Ketchup</td>\n",
       "    </tr>\n",
       "    <tr>\n",
       "      <th>1</th>\n",
       "      <td>T2</td>\n",
       "      <td>HotDogs, Buns</td>\n",
       "    </tr>\n",
       "    <tr>\n",
       "      <th>2</th>\n",
       "      <td>T3</td>\n",
       "      <td>HotDogs, Coca, Chips</td>\n",
       "    </tr>\n",
       "    <tr>\n",
       "      <th>3</th>\n",
       "      <td>T4</td>\n",
       "      <td>Chips, Coca</td>\n",
       "    </tr>\n",
       "    <tr>\n",
       "      <th>4</th>\n",
       "      <td>T5</td>\n",
       "      <td>Chips, Ketchup</td>\n",
       "    </tr>\n",
       "  </tbody>\n",
       "</table>\n",
       "</div>"
      ],
      "text/plain": [
       "  Transactions                   Items\n",
       "0           T1  HotDogs, Buns, Ketchup\n",
       "1           T2           HotDogs, Buns\n",
       "2           T3    HotDogs, Coca, Chips\n",
       "3           T4             Chips, Coca\n",
       "4           T5          Chips, Ketchup"
      ]
     },
     "execution_count": 33,
     "metadata": {},
     "output_type": "execute_result"
    }
   ],
   "source": [
    "df.head()"
   ]
  },
  {
   "cell_type": "code",
   "execution_count": 34,
   "metadata": {},
   "outputs": [
    {
     "data": {
      "text/html": [
       "<div>\n",
       "<style scoped>\n",
       "    .dataframe tbody tr th:only-of-type {\n",
       "        vertical-align: middle;\n",
       "    }\n",
       "\n",
       "    .dataframe tbody tr th {\n",
       "        vertical-align: top;\n",
       "    }\n",
       "\n",
       "    .dataframe thead th {\n",
       "        text-align: right;\n",
       "    }\n",
       "</style>\n",
       "<table border=\"1\" class=\"dataframe\">\n",
       "  <thead>\n",
       "    <tr style=\"text-align: right;\">\n",
       "      <th></th>\n",
       "      <th>Transactions</th>\n",
       "      <th>Items</th>\n",
       "    </tr>\n",
       "  </thead>\n",
       "  <tbody>\n",
       "    <tr>\n",
       "      <th>1</th>\n",
       "      <td>T2</td>\n",
       "      <td>HotDogs, Buns</td>\n",
       "    </tr>\n",
       "    <tr>\n",
       "      <th>2</th>\n",
       "      <td>T3</td>\n",
       "      <td>HotDogs, Coca, Chips</td>\n",
       "    </tr>\n",
       "    <tr>\n",
       "      <th>3</th>\n",
       "      <td>T4</td>\n",
       "      <td>Chips, Coca</td>\n",
       "    </tr>\n",
       "    <tr>\n",
       "      <th>4</th>\n",
       "      <td>T5</td>\n",
       "      <td>Chips, Ketchup</td>\n",
       "    </tr>\n",
       "    <tr>\n",
       "      <th>5</th>\n",
       "      <td>T6</td>\n",
       "      <td>HotDogs, Coca, Chips</td>\n",
       "    </tr>\n",
       "  </tbody>\n",
       "</table>\n",
       "</div>"
      ],
      "text/plain": [
       "  Transactions                 Items\n",
       "1           T2         HotDogs, Buns\n",
       "2           T3  HotDogs, Coca, Chips\n",
       "3           T4           Chips, Coca\n",
       "4           T5        Chips, Ketchup\n",
       "5           T6  HotDogs, Coca, Chips"
      ]
     },
     "execution_count": 34,
     "metadata": {},
     "output_type": "execute_result"
    }
   ],
   "source": [
    "df.tail()"
   ]
  },
  {
   "cell_type": "code",
   "execution_count": 35,
   "metadata": {},
   "outputs": [
    {
     "data": {
      "text/plain": [
       "(6, 2)"
      ]
     },
     "execution_count": 35,
     "metadata": {},
     "output_type": "execute_result"
    }
   ],
   "source": [
    "df.shape"
   ]
  },
  {
   "cell_type": "markdown",
   "metadata": {},
   "source": [
    "On sait qu'il y a 33 pays pour 3 variables à étudier."
   ]
  },
  {
   "cell_type": "code",
   "execution_count": 36,
   "metadata": {},
   "outputs": [
    {
     "data": {
      "text/plain": [
       "Transactions    object\n",
       "Items           object\n",
       "dtype: object"
      ]
     },
     "execution_count": 36,
     "metadata": {},
     "output_type": "execute_result"
    }
   ],
   "source": [
    "df.dtypes"
   ]
  },
  {
   "cell_type": "markdown",
   "metadata": {},
   "source": [
    "Dans cette étude, nous avons que des variables quantitatives."
   ]
  },
  {
   "cell_type": "code",
   "execution_count": 37,
   "metadata": {},
   "outputs": [
    {
     "name": "stdout",
     "output_type": "stream",
     "text": [
      "<class 'pandas.core.frame.DataFrame'>\n",
      "RangeIndex: 6 entries, 0 to 5\n",
      "Data columns (total 2 columns):\n",
      " #   Column        Non-Null Count  Dtype \n",
      "---  ------        --------------  ----- \n",
      " 0   Transactions  6 non-null      object\n",
      " 1   Items         6 non-null      object\n",
      "dtypes: object(2)\n",
      "memory usage: 224.0+ bytes\n"
     ]
    }
   ],
   "source": [
    "df.info()"
   ]
  },
  {
   "cell_type": "code",
   "execution_count": 38,
   "metadata": {},
   "outputs": [
    {
     "data": {
      "text/plain": [
       "Index(['Transactions', 'Items'], dtype='object')"
      ]
     },
     "execution_count": 38,
     "metadata": {},
     "output_type": "execute_result"
    }
   ],
   "source": [
    "df.columns"
   ]
  },
  {
   "cell_type": "code",
   "execution_count": 39,
   "metadata": {},
   "outputs": [
    {
     "data": {
      "text/plain": [
       "Transactions    0\n",
       "Items           0\n",
       "dtype: int64"
      ]
     },
     "execution_count": 39,
     "metadata": {},
     "output_type": "execute_result"
    }
   ],
   "source": [
    "df.isnull().sum()"
   ]
  },
  {
   "cell_type": "markdown",
   "metadata": {},
   "source": [
    "Le jeu de données n'a pas l'air de présenter de données manquantes."
   ]
  },
  {
   "cell_type": "code",
   "execution_count": 40,
   "metadata": {},
   "outputs": [
    {
     "name": "stdout",
     "output_type": "stream",
     "text": [
      "TRANSACTIONS :['T1' 'T2' 'T3' 'T4' 'T5' 'T6'] \n",
      "ITEMS :['HotDogs, Buns, Ketchup' 'HotDogs, Buns' 'HotDogs, Coca, Chips'\n",
      " 'Chips, Coca' 'Chips, Ketchup'] \n"
     ]
    }
   ],
   "source": [
    "list_col = df.columns\n",
    "\n",
    "for col in list_col: \n",
    "    print('{} :{} ' . format(col.upper(), df[col].unique()))"
   ]
  },
  {
   "cell_type": "code",
   "execution_count": 41,
   "metadata": {},
   "outputs": [
    {
     "data": {
      "text/html": [
       "<div>\n",
       "<style scoped>\n",
       "    .dataframe tbody tr th:only-of-type {\n",
       "        vertical-align: middle;\n",
       "    }\n",
       "\n",
       "    .dataframe tbody tr th {\n",
       "        vertical-align: top;\n",
       "    }\n",
       "\n",
       "    .dataframe thead th {\n",
       "        text-align: right;\n",
       "    }\n",
       "</style>\n",
       "<table border=\"1\" class=\"dataframe\">\n",
       "  <thead>\n",
       "    <tr style=\"text-align: right;\">\n",
       "      <th></th>\n",
       "      <th>Transactions</th>\n",
       "      <th>Items</th>\n",
       "    </tr>\n",
       "  </thead>\n",
       "  <tbody>\n",
       "    <tr>\n",
       "      <th>0</th>\n",
       "      <td>T1</td>\n",
       "      <td>HotDogs, Buns, Ketchup</td>\n",
       "    </tr>\n",
       "    <tr>\n",
       "      <th>1</th>\n",
       "      <td>T2</td>\n",
       "      <td>HotDogs, Buns</td>\n",
       "    </tr>\n",
       "    <tr>\n",
       "      <th>2</th>\n",
       "      <td>T3</td>\n",
       "      <td>HotDogs, Coca, Chips</td>\n",
       "    </tr>\n",
       "    <tr>\n",
       "      <th>3</th>\n",
       "      <td>T4</td>\n",
       "      <td>Chips, Coca</td>\n",
       "    </tr>\n",
       "    <tr>\n",
       "      <th>4</th>\n",
       "      <td>T5</td>\n",
       "      <td>Chips, Ketchup</td>\n",
       "    </tr>\n",
       "    <tr>\n",
       "      <th>5</th>\n",
       "      <td>T6</td>\n",
       "      <td>HotDogs, Coca, Chips</td>\n",
       "    </tr>\n",
       "  </tbody>\n",
       "</table>\n",
       "</div>"
      ],
      "text/plain": [
       "  Transactions                   Items\n",
       "0           T1  HotDogs, Buns, Ketchup\n",
       "1           T2           HotDogs, Buns\n",
       "2           T3    HotDogs, Coca, Chips\n",
       "3           T4             Chips, Coca\n",
       "4           T5          Chips, Ketchup\n",
       "5           T6    HotDogs, Coca, Chips"
      ]
     },
     "execution_count": 41,
     "metadata": {},
     "output_type": "execute_result"
    }
   ],
   "source": [
    "df"
   ]
  },
  {
   "cell_type": "code",
   "execution_count": 42,
   "metadata": {},
   "outputs": [
    {
     "name": "stdout",
     "output_type": "stream",
     "text": [
      "Nombre de sous-ensembles candidats : 5\n",
      "Liste des sous-ensembles candidats :\n",
      "  - HotDogs\n",
      "  - Buns\n",
      "  - Ketchup\n",
      "  - Coca\n",
      "  - Chips\n"
     ]
    }
   ],
   "source": [
    "def get_items(data):\n",
    "    # Initialisation d'une liste pour stocker les items\n",
    "    items = []\n",
    "\n",
    "    # Pour chaque ligne\n",
    "    for elt in data:\n",
    "        # Split des strings en éléments\n",
    "        elt = elt.split()\n",
    "\n",
    "        # Pour chaque élément de la ligne\n",
    "        for i in range(len(elt)):\n",
    "            # Formatage de l'élément\n",
    "            elt[i] = elt[i].replace(',', '')   \n",
    "\n",
    "            # Ajout de l'élément à la liste des items\n",
    "            if elt[i] not in items:\n",
    "                items.append(elt[i])\n",
    "    \n",
    "    return items\n",
    "\n",
    "items = get_items(df['Items'])\n",
    "\n",
    "print(\"Nombre de sous-ensembles candidats :\", len(items))\n",
    "print(\"Liste des sous-ensembles candidats :\")\n",
    "for item in items:\n",
    "    print(\"  -\", item)"
   ]
  },
  {
   "cell_type": "code",
   "execution_count": 43,
   "metadata": {},
   "outputs": [
    {
     "name": "stdout",
     "output_type": "stream",
     "text": [
      "{'HotDogs': 4, 'Buns': 2, 'Ketchup': 2, 'Coca': 3, 'Chips': 4}\n"
     ]
    }
   ],
   "source": [
    "# Initialisation d'un dictionnaire pour compter le nombre d'éléments\n",
    "item_counter = {item: 0 for item in items}\n",
    "\n",
    "# Compter les occurrences de chaque item dans les transactions\n",
    "for elt in df['Items']:\n",
    "    for item in items:\n",
    "        if item in elt:\n",
    "            item_counter[item] += 1\n",
    "\n",
    "# Affichage du dictionnaire\n",
    "print(item_counter)"
   ]
  },
  {
   "cell_type": "code",
   "execution_count": 44,
   "metadata": {},
   "outputs": [
    {
     "data": {
      "image/png": "[encoded data removed]",
      "text/plain": [
       "<Figure size 600x500 with 1 Axes>"
      ]
     },
     "metadata": {},
     "output_type": "display_data"
    }
   ],
   "source": [
    "# Pre-processing dataset\n",
    "data = item_counter\n",
    "courses = list(data.keys())\n",
    "values = list(data.values())\n",
    " \n",
    "fig = plt.figure(figsize = (6, 5))\n",
    "\n",
    "# Bar plot\n",
    "plt.bar(courses, values, color =['r', 'g', 'b', 'y', 'orange'], width = 0.9)\n",
    "\n",
    "# Ajouter les valeurs exactes au-dessus de chaque barre\n",
    "for key, value in zip(item_counter.keys(), item_counter.values()):\n",
    "    plt.text(key, value, str(value), ha='center', va='bottom')\n",
    "\n",
    "plt.xlabel(\"Items\")\n",
    "plt.ylabel(\"Nombre d'occurences\")\n",
    "plt.title(\"Nombre d'occurences pour chaque items\")\n",
    "plt.show()"
   ]
  },
  {
   "cell_type": "markdown",
   "metadata": {},
   "source": [
    "Ce dendogramme permet de se rendre compte de la répartition de chaque item."
   ]
  },
  {
   "cell_type": "code",
   "execution_count": 45,
   "metadata": {},
   "outputs": [
    {
     "name": "stdout",
     "output_type": "stream",
     "text": [
      "Table de vérité :\n",
      "              Buns  Chips  Coca  HotDogs  Ketchup\n",
      "Transactions                                     \n",
      "T1               1      0     0        1        1\n",
      "T2               1      0     0        1        0\n",
      "T3               0      1     1        1        0\n",
      "T4               0      1     1        0        0\n",
      "T5               0      1     0        0        1\n",
      "T6               0      1     1        1        0\n"
     ]
    }
   ],
   "source": [
    "from sklearn.preprocessing import MultiLabelBinarizer\n",
    "\n",
    "# Nettoyage de la colonne 'Items' et convertion en listes\n",
    "df_original['Items'] = df_original['Items'].str.strip(\"[]\").str.split(\", \")\n",
    "\n",
    "# Encodage des items\n",
    "mlb = MultiLabelBinarizer()\n",
    "encoded_items = mlb.fit_transform(df_original['Items'])\n",
    "\n",
    "# Création d'un nouveau DataFrame avec les items encodés\n",
    "encoded_df = pd.DataFrame(encoded_items, columns=mlb.classes_, index=df_original['Transactions'])\n",
    "\n",
    "# Affichage du DataFrame encodé\n",
    "print(\"Table de vérité :\")\n",
    "print(encoded_df)"
   ]
  },
  {
   "cell_type": "markdown",
   "metadata": {},
   "source": [
    "La table de vérité ci-dessous représente les transactions de notre jeu de données, mais sous forme binaire. Soit par exemple, dans la transaction T1, il y a des Buns et des HotDogs."
   ]
  },
  {
   "cell_type": "code",
   "execution_count": 46,
   "metadata": {},
   "outputs": [],
   "source": [
    "# Fonction pour tracer les fréquences des sous-ensembles\n",
    "def plot_frequencies(frequent_itemsets):\n",
    "    itemsets = list(frequent_itemsets.keys())\n",
    "    supports = list(frequent_itemsets.values())\n",
    "\n",
    "    # Création d'un graphique à barres\n",
    "    plt.figure(figsize=(6, 5))\n",
    "    bars = plt.bar(range(len(itemsets)), supports, tick_label=[str(itemset) for itemset in itemsets], width=0.9)\n",
    "\n",
    "    # Ajout des valeurs exactes au-dessus de chaque barre\n",
    "    for bar in bars:\n",
    "        yval = bar.get_height()\n",
    "        plt.text(bar.get_x() + bar.get_width()/2, yval, f'{yval:.2f}', ha='center', va='bottom')\n",
    "\n",
    "    plt.xlabel('Sous-ensembles')\n",
    "    plt.ylabel('Support')\n",
    "    plt.title('Fréquences des Sous-ensembles Fréquents')\n",
    "    plt.xticks(rotation=45)\n",
    "    plt.tight_layout()\n",
    "    plt.show()"
   ]
  },
  {
   "cell_type": "code",
   "execution_count": 47,
   "metadata": {},
   "outputs": [],
   "source": [
    "from itertools import combinations\n",
    "\n",
    "# Fonction pour calculer le support des sous-ensembles de cardinal 2\n",
    "def calculate_support(transactions, min_support, cardinal):\n",
    "    transactions = df['Items'].apply(lambda x: x.split(', ')).tolist()\n",
    "\n",
    "    # Dictionnaire pour stocker le support\n",
    "    support_count = {}\n",
    "    total_transactions = len(transactions)\n",
    "\n",
    "    # Génération de toutes les combinaisons en fonction du cardinal\n",
    "    for transaction in transactions:\n",
    "        for combo in combinations(sorted(set(transaction)), cardinal):\n",
    "            if combo in support_count:\n",
    "                support_count[combo] += 1\n",
    "            else:\n",
    "                support_count[combo] = 1\n",
    "\n",
    "    # Calcul du support\n",
    "    frequent_itemsets = {}\n",
    "    for itemset, count in support_count.items():\n",
    "        support = count / total_transactions\n",
    "        if support >= min_support:\n",
    "            frequent_itemsets[itemset] = support\n",
    "\n",
    "    return frequent_itemsets"
   ]
  },
  {
   "cell_type": "code",
   "execution_count": 48,
   "metadata": {},
   "outputs": [
    {
     "name": "stdout",
     "output_type": "stream",
     "text": [
      "Lorsque l'on pose S0=0.3%, on a le(s) 4 candidat(s) suivants pour un cardinal de 2 :\n",
      "  - ('Buns', 'HotDogs') : 0.3333333333333333\n",
      "  - ('Chips', 'Coca') : 0.5\n",
      "  - ('Chips', 'HotDogs') : 0.3333333333333333\n",
      "  - ('Coca', 'HotDogs') : 0.3333333333333333\n"
     ]
    },
    {
     "data": {
      "image/png": "[encoded data removed]",
      "text/plain": [
       "<Figure size 600x500 with 1 Axes>"
      ]
     },
     "metadata": {},
     "output_type": "display_data"
    }
   ],
   "source": [
    "# Seuil de support\n",
    "min_support = 0.30\n",
    "frequent_itemsets = calculate_support(df['Items'], min_support, cardinal=2)\n",
    "\n",
    "# Affichage des résultats\n",
    "print(f\"Lorsque l'on pose S0={min_support}%, on a le(s) {len(frequent_itemsets)} candidat(s) suivants pour un cardinal de 2 :\")\n",
    "for key, value in zip(frequent_itemsets.keys(), frequent_itemsets.values()):\n",
    "    print(f\"  - {key} : {value}\")\n",
    "\n",
    "plot_frequencies(frequent_itemsets)"
   ]
  },
  {
   "cell_type": "markdown",
   "metadata": {},
   "source": [
    "Sur toutes les transactions, celle avec des chips et du coca revient plus souvent que les autres. Ce qui nous laisse penser qu'il y a de fortes chances que lorsque l'on achète des Chips, on achète également du coca. \n",
    "\n",
    "En réalité, le jeu de données est assez petit, il ne compte que 6 transactions, ce qui est peu. Malgré tout, les sous-ensembles ci-dessus sont ceux qui ont un support supérieur à 30%.\n",
    "\n",
    "Donc, les chips et le coca apparaissent dans 50% des transactions."
   ]
  },
  {
   "cell_type": "code",
   "execution_count": 49,
   "metadata": {},
   "outputs": [
    {
     "name": "stdout",
     "output_type": "stream",
     "text": [
      "Lorsque l'on pose S0=0.3%, on a le(s) 1 candidat(s) suivants pour un cardinal de 3 :\n",
      "  - ('Chips', 'Coca', 'HotDogs') : 0.3333333333333333\n"
     ]
    },
    {
     "data": {
      "image/png": "[encoded data removed]",
      "text/plain": [
       "<Figure size 600x500 with 1 Axes>"
      ]
     },
     "metadata": {},
     "output_type": "display_data"
    }
   ],
   "source": [
    "# Seuil de support\n",
    "min_support = 0.30\n",
    "frequent_itemsets = calculate_support(df['Items'], min_support, cardinal=3)\n",
    "\n",
    "# Affichage des résultats\n",
    "print(f\"Lorsque l'on pose S0={min_support}%, on a le(s) {len(frequent_itemsets)} candidat(s) suivants pour un cardinal de 3 :\")\n",
    "for key, value in zip(frequent_itemsets.keys(), frequent_itemsets.values()):\n",
    "    print(f\"  - {key} : {value}\")\n",
    "\n",
    "plot_frequencies(frequent_itemsets)"
   ]
  },
  {
   "cell_type": "markdown",
   "metadata": {},
   "source": [
    "Parmis les sous-ensembles de cardinal 3, celui avec Chips, Coca et HotDogs est le seul à avoir une fréquence supérieure à 30%. Donc l'achat de CHips, coca et HotDogs apparaissent dans 33% des transactions."
   ]
  },
  {
   "cell_type": "code",
   "execution_count": 51,
   "metadata": {},
   "outputs": [
    {
     "name": "stdout",
     "output_type": "stream",
     "text": [
      "Règles d'association avec une confiance ≥ 60.0% pour des sous-ensembles de cardinalité 2:\n",
      "  - ('Coca',) => ('Chips', 'HotDogs') (Confiance: 0.67, Support: 0.33)\n",
      "  - ('Chips', 'Coca') => ('HotDogs',) (Confiance: 0.67, Support: 0.33)\n",
      "  - ('Chips', 'HotDogs') => ('Coca',) (Confiance: 1.00, Support: 0.33)\n",
      "  - ('Coca', 'HotDogs') => ('Chips',) (Confiance: 1.00, Support: 0.33)\n"
     ]
    }
   ],
   "source": [
    "# Fonction pour générer des règles d'association à partir des itemsets fréquents\n",
    "def generate_association_rules(frequent_itemsets, transactions, min_confidence):\n",
    "    rules = []\n",
    "    \n",
    "    # Pour chaque ensemble fréquent, calcul des règles possibles\n",
    "    for itemset, support in frequent_itemsets.items():\n",
    "        # Toutes les combinaisons non vides des items dans l'ensemble fréquent\n",
    "        for antecedent_size in range(1, len(itemset)):\n",
    "            for antecedent in combinations(itemset, antecedent_size):\n",
    "                consequent = tuple(sorted(set(itemset) - set(antecedent)))\n",
    "                \n",
    "                if len(consequent) > 0:\n",
    "                    # Calcul du support\n",
    "                    antecedent_support = calculate_support_for_itemset(antecedent, transactions)\n",
    "                    if antecedent_support > 0:\n",
    "                        # Calcul de la confiance\n",
    "                        confidence = support / antecedent_support\n",
    "                        if confidence >= min_confidence:\n",
    "                            rules.append({\n",
    "                                'antecedent': antecedent,\n",
    "                                'consequent': consequent,\n",
    "                                'support': support,\n",
    "                                'confidence': confidence\n",
    "                            })\n",
    "    return rules\n",
    "\n",
    "# Fonction pour calculer le support d'un sous-ensemble spécifique\n",
    "def calculate_support_for_itemset(itemset, transactions):\n",
    "    count = 0\n",
    "    total_transactions = len(transactions)\n",
    "    for transaction in transactions:\n",
    "        if all(item in transaction for item in itemset):\n",
    "            count += 1\n",
    "    return count / total_transactions\n",
    "\n",
    "# Transactions sous forme de listes d'items\n",
    "transactions = df['Items'].apply(lambda x: x.split(', ')).tolist()\n",
    "\n",
    "# Calcul des règles d'association pour les sous-ensembles fréquents\n",
    "min_confidence = 0.60\n",
    "association_rules_card_2 = generate_association_rules(frequent_itemsets, transactions, min_confidence)\n",
    "\n",
    "# Affichage des règles avec confiance supérieure à 60%\n",
    "print(f\"Règles d'association avec une confiance ≥ {min_confidence*100}% pour des sous-ensembles de cardinalité 2:\")\n",
    "for rule in association_rules_card_2:\n",
    "    print(f\"  - {rule['antecedent']} => {rule['consequent']} (Confiance: {rule['confidence']:.2f}, Support: {rule['support']:.2f})\")\n"
   ]
  },
  {
   "cell_type": "markdown",
   "metadata": {},
   "source": [
    "Enfin, voici les règles d'associations avec une confiance de plus de 60%. Ce qui veut dire qu'il y a 60% de chances que si il y a un item dans une transaction, il y aura aussi un autre item qui lui est associé.\n",
    "\n",
    "Donc ici, dans 100% des cas, si un individu achète des chips et des hotdogs, il y aura du coca. Tout comme s'il y a du coca et des hotdogs, il y aura des chips."
   ]
  },
  {
   "cell_type": "code",
   "execution_count": 52,
   "metadata": {},
   "outputs": [
    {
     "name": "stdout",
     "output_type": "stream",
     "text": [
      "\n",
      "Règles d'association avec une confiance ≥ 60.0% pour des sous-ensembles de cardinalité 3:\n",
      "  - ('Coca',) => ('Chips', 'HotDogs') (Confiance: 0.67, Support: 0.33)\n",
      "  - ('Chips', 'Coca') => ('HotDogs',) (Confiance: 0.67, Support: 0.33)\n",
      "  - ('Chips', 'HotDogs') => ('Coca',) (Confiance: 1.00, Support: 0.33)\n",
      "  - ('Coca', 'HotDogs') => ('Chips',) (Confiance: 1.00, Support: 0.33)\n"
     ]
    }
   ],
   "source": [
    "frequent_itemsets_card_3 = calculate_support(df['Items'], min_support, cardinal=3)\n",
    "association_rules_card_3 = generate_association_rules(frequent_itemsets_card_3, transactions, min_confidence)\n",
    "\n",
    "# Affichage des règles avec confiance supérieure à 60%\n",
    "print(f\"\\nRègles d'association avec une confiance ≥ {min_confidence*100}% pour des sous-ensembles de cardinalité 3:\")\n",
    "for rule in association_rules_card_3:\n",
    "    print(f\"  - {rule['antecedent']} => {rule['consequent']} (Confiance: {rule['confidence']:.2f}, Support: {rule['support']:.2f})\")"
   ]
  }
 ],
 "metadata": {
  "kernelspec": {
   "display_name": "Python 3",
   "language": "python",
   "name": "python3"
  },
  "language_info": {
   "codemirror_mode": {
    "name": "ipython",
    "version": 3
   },
   "file_extension": ".py",
   "mimetype": "text/x-python",
   "name": "python",
   "nbconvert_exporter": "python",
   "pygments_lexer": "ipython3",
   "version": "3.8.10"
  }
 },
 "nbformat": 4,
 "nbformat_minor": 2
}
