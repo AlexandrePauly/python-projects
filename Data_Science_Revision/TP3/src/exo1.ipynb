{
 "cells": [
  {
   "cell_type": "markdown",
   "metadata": {},
   "source": [
    "# Thématique 3 - Analyse bivariée entre variables qualitatives\n",
    "\n",
    "Réalisé par Alexandre Pauly."
   ]
  },
  {
   "cell_type": "markdown",
   "metadata": {},
   "source": [
    "### Importation des librairies"
   ]
  },
  {
   "cell_type": "code",
   "execution_count": 15,
   "metadata": {},
   "outputs": [],
   "source": [
    "import os\n",
    "import numpy as np\n",
    "import pandas as pd\n",
    "import matplotlib.pyplot as plt"
   ]
  },
  {
   "cell_type": "markdown",
   "metadata": {},
   "source": [
    "### Data pre-processing"
   ]
  },
  {
   "cell_type": "code",
   "execution_count": 16,
   "metadata": {},
   "outputs": [
    {
     "data": {
      "text/html": [
       "<div>\n",
       "<style scoped>\n",
       "    .dataframe tbody tr th:only-of-type {\n",
       "        vertical-align: middle;\n",
       "    }\n",
       "\n",
       "    .dataframe tbody tr th {\n",
       "        vertical-align: top;\n",
       "    }\n",
       "\n",
       "    .dataframe thead th {\n",
       "        text-align: right;\n",
       "    }\n",
       "</style>\n",
       "<table border=\"1\" class=\"dataframe\">\n",
       "  <thead>\n",
       "    <tr style=\"text-align: right;\">\n",
       "      <th></th>\n",
       "      <th>F</th>\n",
       "      <th>H</th>\n",
       "    </tr>\n",
       "  </thead>\n",
       "  <tbody>\n",
       "    <tr>\n",
       "      <th>count</th>\n",
       "      <td>3.000000</td>\n",
       "      <td>3.000000</td>\n",
       "    </tr>\n",
       "    <tr>\n",
       "      <th>mean</th>\n",
       "      <td>21.666667</td>\n",
       "      <td>22.000000</td>\n",
       "    </tr>\n",
       "    <tr>\n",
       "      <th>std</th>\n",
       "      <td>21.079216</td>\n",
       "      <td>23.515952</td>\n",
       "    </tr>\n",
       "    <tr>\n",
       "      <th>min</th>\n",
       "      <td>4.000000</td>\n",
       "      <td>6.000000</td>\n",
       "    </tr>\n",
       "    <tr>\n",
       "      <th>25%</th>\n",
       "      <td>10.000000</td>\n",
       "      <td>8.500000</td>\n",
       "    </tr>\n",
       "    <tr>\n",
       "      <th>50%</th>\n",
       "      <td>16.000000</td>\n",
       "      <td>11.000000</td>\n",
       "    </tr>\n",
       "    <tr>\n",
       "      <th>75%</th>\n",
       "      <td>30.500000</td>\n",
       "      <td>30.000000</td>\n",
       "    </tr>\n",
       "    <tr>\n",
       "      <th>max</th>\n",
       "      <td>45.000000</td>\n",
       "      <td>49.000000</td>\n",
       "    </tr>\n",
       "  </tbody>\n",
       "</table>\n",
       "</div>"
      ],
      "text/plain": [
       "               F          H\n",
       "count   3.000000   3.000000\n",
       "mean   21.666667  22.000000\n",
       "std    21.079216  23.515952\n",
       "min     4.000000   6.000000\n",
       "25%    10.000000   8.500000\n",
       "50%    16.000000  11.000000\n",
       "75%    30.500000  30.000000\n",
       "max    45.000000  49.000000"
      ]
     },
     "execution_count": 16,
     "metadata": {},
     "output_type": "execute_result"
    }
   ],
   "source": [
    "# Préparation du fichier de données\n",
    "filepath = \"../data\"\n",
    "filename = \"employes.csv\"\n",
    "file = os.path.join(filepath, filename)\n",
    "\n",
    "# Lecture des données\n",
    "df_original = pd.read_csv(file, delimiter=\";\")\n",
    "df = df_original.copy()\n",
    "\n",
    "# Affichage des indicateurs de positions et de dispersions\n",
    "df.describe()"
   ]
  },
  {
   "cell_type": "markdown",
   "metadata": {},
   "source": [
    "Ce jeu de données comptabilise le nombre d'employés homme et femme ayant fait des études (Bac+3, Bac+5 et Bac+8). Ici nous ne pouvons pas compter directement le nombre d'employés car les variables sont qualitatives. Pour connaître le nombre d'individus de l'entreprise, il faudra calculer l'effectif total ou par lecture du tableau de contigence. Malgré tout, il y entre 4 et 45 hommes et entre 6 et 49 femmes qui ont fait des études.\n",
    "\n",
    "**Remarque** : Comme nous sommes dans un croisement qualitatif x qualitatif, il est inutile d'analyser des indicateurs comme la moyenne et la médiane."
   ]
  },
  {
   "cell_type": "code",
   "execution_count": 17,
   "metadata": {},
   "outputs": [
    {
     "data": {
      "text/html": [
       "<div>\n",
       "<style scoped>\n",
       "    .dataframe tbody tr th:only-of-type {\n",
       "        vertical-align: middle;\n",
       "    }\n",
       "\n",
       "    .dataframe tbody tr th {\n",
       "        vertical-align: top;\n",
       "    }\n",
       "\n",
       "    .dataframe thead th {\n",
       "        text-align: right;\n",
       "    }\n",
       "</style>\n",
       "<table border=\"1\" class=\"dataframe\">\n",
       "  <thead>\n",
       "    <tr style=\"text-align: right;\">\n",
       "      <th></th>\n",
       "      <th>X\\Y</th>\n",
       "      <th>F</th>\n",
       "      <th>H</th>\n",
       "    </tr>\n",
       "  </thead>\n",
       "  <tbody>\n",
       "    <tr>\n",
       "      <th>0</th>\n",
       "      <td>Bac+3</td>\n",
       "      <td>45</td>\n",
       "      <td>49</td>\n",
       "    </tr>\n",
       "    <tr>\n",
       "      <th>1</th>\n",
       "      <td>Bac+5</td>\n",
       "      <td>16</td>\n",
       "      <td>11</td>\n",
       "    </tr>\n",
       "    <tr>\n",
       "      <th>2</th>\n",
       "      <td>Bac+8</td>\n",
       "      <td>4</td>\n",
       "      <td>6</td>\n",
       "    </tr>\n",
       "  </tbody>\n",
       "</table>\n",
       "</div>"
      ],
      "text/plain": [
       "     X\\Y   F   H\n",
       "0  Bac+3  45  49\n",
       "1  Bac+5  16  11\n",
       "2  Bac+8   4   6"
      ]
     },
     "execution_count": 17,
     "metadata": {},
     "output_type": "execute_result"
    }
   ],
   "source": [
    "df.head()"
   ]
  },
  {
   "cell_type": "code",
   "execution_count": 18,
   "metadata": {},
   "outputs": [
    {
     "data": {
      "text/html": [
       "<div>\n",
       "<style scoped>\n",
       "    .dataframe tbody tr th:only-of-type {\n",
       "        vertical-align: middle;\n",
       "    }\n",
       "\n",
       "    .dataframe tbody tr th {\n",
       "        vertical-align: top;\n",
       "    }\n",
       "\n",
       "    .dataframe thead th {\n",
       "        text-align: right;\n",
       "    }\n",
       "</style>\n",
       "<table border=\"1\" class=\"dataframe\">\n",
       "  <thead>\n",
       "    <tr style=\"text-align: right;\">\n",
       "      <th></th>\n",
       "      <th>X\\Y</th>\n",
       "      <th>F</th>\n",
       "      <th>H</th>\n",
       "    </tr>\n",
       "  </thead>\n",
       "  <tbody>\n",
       "    <tr>\n",
       "      <th>0</th>\n",
       "      <td>Bac+3</td>\n",
       "      <td>45</td>\n",
       "      <td>49</td>\n",
       "    </tr>\n",
       "    <tr>\n",
       "      <th>1</th>\n",
       "      <td>Bac+5</td>\n",
       "      <td>16</td>\n",
       "      <td>11</td>\n",
       "    </tr>\n",
       "    <tr>\n",
       "      <th>2</th>\n",
       "      <td>Bac+8</td>\n",
       "      <td>4</td>\n",
       "      <td>6</td>\n",
       "    </tr>\n",
       "  </tbody>\n",
       "</table>\n",
       "</div>"
      ],
      "text/plain": [
       "     X\\Y   F   H\n",
       "0  Bac+3  45  49\n",
       "1  Bac+5  16  11\n",
       "2  Bac+8   4   6"
      ]
     },
     "execution_count": 18,
     "metadata": {},
     "output_type": "execute_result"
    }
   ],
   "source": [
    "df.tail()"
   ]
  },
  {
   "cell_type": "code",
   "execution_count": 19,
   "metadata": {},
   "outputs": [
    {
     "data": {
      "text/plain": [
       "(3, 3)"
      ]
     },
     "execution_count": 19,
     "metadata": {},
     "output_type": "execute_result"
    }
   ],
   "source": [
    "df.shape"
   ]
  },
  {
   "cell_type": "code",
   "execution_count": 20,
   "metadata": {},
   "outputs": [
    {
     "data": {
      "text/plain": [
       "X\\Y    object\n",
       "F       int64\n",
       "H       int64\n",
       "dtype: object"
      ]
     },
     "execution_count": 20,
     "metadata": {},
     "output_type": "execute_result"
    }
   ],
   "source": [
    "df.dtypes"
   ]
  },
  {
   "cell_type": "code",
   "execution_count": 21,
   "metadata": {},
   "outputs": [
    {
     "name": "stdout",
     "output_type": "stream",
     "text": [
      "<class 'pandas.core.frame.DataFrame'>\n",
      "RangeIndex: 3 entries, 0 to 2\n",
      "Data columns (total 3 columns):\n",
      " #   Column  Non-Null Count  Dtype \n",
      "---  ------  --------------  ----- \n",
      " 0   X\\Y     3 non-null      object\n",
      " 1   F       3 non-null      int64 \n",
      " 2   H       3 non-null      int64 \n",
      "dtypes: int64(2), object(1)\n",
      "memory usage: 200.0+ bytes\n"
     ]
    }
   ],
   "source": [
    "df.info()"
   ]
  },
  {
   "cell_type": "code",
   "execution_count": 22,
   "metadata": {},
   "outputs": [
    {
     "data": {
      "text/plain": [
       "Index(['X\\Y', 'F', 'H'], dtype='object')"
      ]
     },
     "execution_count": 22,
     "metadata": {},
     "output_type": "execute_result"
    }
   ],
   "source": [
    "df.columns"
   ]
  },
  {
   "cell_type": "markdown",
   "metadata": {},
   "source": [
    "Explication des variables :\n",
    "- F : Nombre de femmes diplômées\n",
    "- H : Nombre d'hommes diplômés"
   ]
  },
  {
   "cell_type": "code",
   "execution_count": 23,
   "metadata": {},
   "outputs": [
    {
     "data": {
      "text/plain": [
       "X\\Y    0\n",
       "F      0\n",
       "H      0\n",
       "dtype: int64"
      ]
     },
     "execution_count": 23,
     "metadata": {},
     "output_type": "execute_result"
    }
   ],
   "source": [
    "df.isnull().sum()"
   ]
  },
  {
   "cell_type": "code",
   "execution_count": 24,
   "metadata": {},
   "outputs": [
    {
     "name": "stdout",
     "output_type": "stream",
     "text": [
      "     X\\Y   F   H\n",
      "0  Bac+3  45  49\n",
      "1  Bac+5  16  11\n",
      "2  Bac+8   4   6\n"
     ]
    }
   ],
   "source": [
    "print(df)"
   ]
  },
  {
   "cell_type": "markdown",
   "metadata": {},
   "source": [
    "### Calcul des effectifs marginaux"
   ]
  },
  {
   "cell_type": "code",
   "execution_count": 25,
   "metadata": {},
   "outputs": [
    {
     "name": "stdout",
     "output_type": "stream",
     "text": [
      "               X\\Y     F     H  eff_ligne\n",
      "0            Bac+3  45.0  49.0       94.0\n",
      "1            Bac+5  16.0  11.0       27.0\n",
      "2            Bac+8   4.0   6.0       10.0\n",
      "eff_colonne    NaN  65.0  66.0      131.0\n"
     ]
    }
   ],
   "source": [
    "# Calcul de la somme des lignes (eff_ligne)\n",
    "df['eff_ligne'] = df['F'] + df['H']\n",
    "\n",
    "# Calcul de la somme des colonnes (eff_colonne)\n",
    "eff_colonne = df[['F', 'H', 'eff_ligne']].sum()\n",
    "\n",
    "# Ajout d'une ligne pour les \"eff_colonne\"\n",
    "df.loc['eff_colonne'] = eff_colonne\n",
    "\n",
    "# Calcul du total général\n",
    "total_general = eff_colonne['eff_ligne']\n",
    "\n",
    "print(df)"
   ]
  },
  {
   "cell_type": "markdown",
   "metadata": {},
   "source": [
    "Uniquement des calculs d'effectifs ou de fréquences. Les indicateurs numériques (moyenne, médiane,…) ne veulent rien dire puisqu'il n'y a pas d'échelle de mesure (même si les modalités sont codées 0, 1 ,2,…)\n",
    "n3.=10 représente les effectifs des bac+8 tous sexes confondus\n",
    "n.1=65 représente les effectifs des femmes tous niveaux de formation confondus"
   ]
  },
  {
   "cell_type": "markdown",
   "metadata": {},
   "source": [
    "### Calcul des fréquences marginales"
   ]
  },
  {
   "cell_type": "code",
   "execution_count": 26,
   "metadata": {},
   "outputs": [
    {
     "name": "stdout",
     "output_type": "stream",
     "text": [
      "                X\\Y         F         H  freq_ligne\n",
      "NaN           Bac+3  0.343511  0.374046    0.717557\n",
      "NaN           Bac+5  0.122137  0.083969    0.206107\n",
      "NaN           Bac+8  0.030534  0.045802    0.076336\n",
      "freq_colonne    NaN  0.496183  0.503817    1.000000\n"
     ]
    }
   ],
   "source": [
    "# Création d'un tableau de fréquences\n",
    "df_freq = df.copy()\n",
    "\n",
    "# Renommer les colonnes dans df_freq\n",
    "df_freq = df_freq.rename(columns={'eff_ligne': 'freq_ligne'})\n",
    "df_freq.index = df_freq.index.str.replace('eff_colonne', 'freq_colonne')\n",
    "\n",
    "# Calcul des fréquences de chaque case\n",
    "df_freq[['F', 'H', 'freq_ligne']] = df_freq[['F', 'H', 'freq_ligne']] / total_general\n",
    "\n",
    "# Affichage du tableau de fréquences\n",
    "print(df_freq)"
   ]
  },
  {
   "cell_type": "markdown",
   "metadata": {},
   "source": [
    "### Profils lignes"
   ]
  },
  {
   "cell_type": "code",
   "execution_count": 27,
   "metadata": {},
   "outputs": [
    {
     "name": "stdout",
     "output_type": "stream",
     "text": [
      "                      X\\Y         F         H  Total\n",
      "NaN                 Bac+3  0.478723  0.521277    1.0\n",
      "NaN                 Bac+5  0.592593  0.407407    1.0\n",
      "NaN                 Bac+8  0.400000  0.600000    1.0\n",
      "Profil ligne moyen    NaN  0.496183  0.503817    1.0\n"
     ]
    }
   ],
   "source": [
    "# Création d'un tableau de profils lignes\n",
    "df_profil = df.copy()\n",
    "\n",
    "# Renommer les colonnes dans df_profil\n",
    "df_profil = df_profil.rename(columns={'eff_ligne': 'Total'})\n",
    "df_profil.index = df_profil.index.str.replace('eff_colonne', 'Profil ligne moyen')\n",
    "\n",
    "# Total de chaque ligne\n",
    "total_ligne = df_profil['Total']\n",
    "\n",
    "# Calcul de chaque profil ligne\n",
    "df_profil['F'] /= total_ligne\n",
    "df_profil['H'] /= total_ligne\n",
    "df_profil['Total'] /= total_ligne\n",
    "\n",
    "# Affichage du tableau des profils lignes\n",
    "print(df_profil)"
   ]
  },
  {
   "cell_type": "markdown",
   "metadata": {},
   "source": [
    "On compare les profils lignes avec les fréquences marginales des sexes (=profil ligne moyen). Attention, on reporte la ligne des fréquences marginales obtenue dans le tableau des fréquences et on ne calcule pas la somme ou la moyenne des profils lignes!!!!!\n",
    "\n",
    "Il y a 50% de femmes dans l'entreprise. Ce pourcentage descend à 40% chez les bac+8 et augmente à 60% chez les bac+5. Cela laisse penser que la répartition des femmes dépend du niveau de formation"
   ]
  },
  {
   "cell_type": "markdown",
   "metadata": {},
   "source": [
    "### Histogramme des profils lignes"
   ]
  },
  {
   "cell_type": "code",
   "execution_count": 41,
   "metadata": {},
   "outputs": [
    {
     "data": {
      "image/png": "[encoded data removed]",
      "text/plain": [
       "<Figure size 640x480 with 1 Axes>"
      ]
     },
     "metadata": {},
     "output_type": "display_data"
    }
   ],
   "source": [
    "# Suppression de la colonne 'total' et de la ligne 'freq_marginale' si elles existent\n",
    "df_profil_temp = df_profil.drop(columns=['Total'], errors='ignore')\n",
    "\n",
    "# Tracé de l'histogramme empilé\n",
    "ax = df_profil_temp.set_index('X\\\\Y').plot(kind='bar', stacked=True, color=['#1f77b4', '#ff7f0e'])\n",
    "\n",
    "# Ajouter les valeurs sur chaque barre\n",
    "for container in ax.containers:\n",
    "    ax.bar_label(container, fmt='%.001f', label_type='center')\n",
    "\n",
    "plt.title('Histogramme empilé des effectifs femme et homme par niveau d\\'étude')\n",
    "plt.ylabel('Pourcentage')\n",
    "plt.xlabel('Niveau d\\'étude')\n",
    "plt.legend(title='Sexe')\n",
    "plt.tight_layout()\n",
    "\n",
    "# Affichage de l'histogramme\n",
    "plt.show()"
   ]
  },
  {
   "cell_type": "markdown",
   "metadata": {},
   "source": [
    "On constate que la part d'hommes et femmes faisant des études est quasi égale, peu importe le nombre d'années. Plus précisemment :\n",
    "- A bac+3, il y a autant d'hommes que de femmes.\n",
    "- A bac+5, il y a 60% de femmes pour 40% d'hommes.\n",
    "- A bac+8, il y a 40% de femmes pour 60% d'hommes."
   ]
  },
  {
   "cell_type": "markdown",
   "metadata": {},
   "source": [
    "### Profils colonnes"
   ]
  },
  {
   "cell_type": "code",
   "execution_count": 29,
   "metadata": {},
   "outputs": [
    {
     "name": "stdout",
     "output_type": "stream",
     "text": [
      "         X\\Y         F         H Profil colonne moyen\n",
      "NaN    Bac+3  0.692308  0.742424             0.717557\n",
      "NaN    Bac+5  0.246154  0.166667             0.206107\n",
      "NaN    Bac+8  0.061538  0.090909             0.076336\n",
      "Total    NaN       1.0       1.0                  1.0\n"
     ]
    }
   ],
   "source": [
    "# Création d'un tableau de profils colonnes\n",
    "df_colonne = df.copy()\n",
    "\n",
    "# Renommer les colonnes dans df_colonne\n",
    "df_colonne = df_colonne.rename(columns={'eff_ligne': 'Profil colonne moyen'})\n",
    "df_colonne.index = df_colonne.index.str.replace('eff_colonne', 'Total')\n",
    "\n",
    "# Total de chaque colonne\n",
    "total_colonne = df_colonne.loc['Total']\n",
    "\n",
    "# Calcul de chaque profil ligne\n",
    "df_colonne[['F','H', 'Profil colonne moyen']] /= total_colonne\n",
    "\n",
    "# Affichage du tableau des profils lignes\n",
    "print(df_colonne)"
   ]
  },
  {
   "cell_type": "markdown",
   "metadata": {},
   "source": [
    "Concernant les profils colonnes, il y a beaucoup moins d'écart entre la répartition total des niveaux de formation et la répartition par sexe. Il ne semble pas y avoir de dépendance entre ces variables"
   ]
  },
  {
   "cell_type": "markdown",
   "metadata": {},
   "source": [
    "### Histogramme des profils colonnes"
   ]
  },
  {
   "cell_type": "code",
   "execution_count": 30,
   "metadata": {},
   "outputs": [
    {
     "data": {
      "image/png": "[encoded data removed]",
      "text/plain": [
       "<Figure size 640x480 with 1 Axes>"
      ]
     },
     "metadata": {},
     "output_type": "display_data"
    }
   ],
   "source": [
    "# Suppression de la colonne 'total' et de la ligne 'freq_marginale' si elles existent\n",
    "# df_colonne_temp = df_colonne.drop(columns=['Profil colonne moyen'], errors='ignore')\n",
    "df_colonne_temp = df_colonne[df_colonne.index != 'Total']\n",
    "df_colonne_temp = df_colonne_temp.reset_index(drop=True)\n",
    "\n",
    "df_colonne_temp = df_colonne_temp.T\n",
    "\n",
    "df_colonne_temp.iloc[1:] = df_colonne_temp.iloc[1:].astype(float)\n",
    "\n",
    "# Tracé de l'histogramme empilé\n",
    "df_colonne_temp.iloc[1:].plot(kind='bar', stacked=True)\n",
    "plt.title('Histogramme empilé des effectifs femme et homme par niveau d\\'étude')\n",
    "plt.ylabel('Effectifs')\n",
    "plt.xlabel('Niveau d\\'étude')\n",
    "plt.legend(title='Sexe')\n",
    "plt.tight_layout()\n",
    "\n",
    "# Affichage de l'histogramme\n",
    "plt.show()"
   ]
  },
  {
   "cell_type": "markdown",
   "metadata": {},
   "source": [
    "### Lecture des données"
   ]
  },
  {
   "cell_type": "markdown",
   "metadata": {},
   "source": [
    "- f31=0,03\tIl y a 3% des salariés qui sont des femmes ayant bac+8\n",
    "\n",
    "- f3.=0,076\tIl y a 7,6% des salariés qui ont un bac+8\n",
    "\n",
    "- f.1=0,496\tIl y a 49,6% de femmes dans l'entreprise\n",
    "\n",
    "- f3|1=4/65=0,06\tIl y 6% de bac+8 parmi les femmes salariées\n",
    "\n",
    "- f1|3=4/10=0,4\tIl y a 40% de femmes parmi les bac+8"
   ]
  },
  {
   "cell_type": "markdown",
   "metadata": {},
   "source": [
    "## Distance du Khi2\n",
    "### Tableaux des effectifs observés vs théoriques"
   ]
  },
  {
   "cell_type": "code",
   "execution_count": 31,
   "metadata": {},
   "outputs": [
    {
     "name": "stdout",
     "output_type": "stream",
     "text": [
      "Tableau des effectifs observés :\n",
      "                X\\Y     F     H  eff_ligne\n",
      "0            Bac+3  45.0  49.0       94.0\n",
      "1            Bac+5  16.0  11.0       27.0\n",
      "2            Bac+8   4.0   6.0       10.0\n",
      "eff_colonne    NaN  65.0  66.0      131.0\n",
      "\n",
      "Tableau des effectifs théoriques :\n",
      "                X\\Y          F          H  eff_ligne\n",
      "0            Bac+3  46.641221  47.358779       94.0\n",
      "1            Bac+5  13.396947  13.603053       27.0\n",
      "2            Bac+8   4.961832   5.038168       10.0\n",
      "eff_colonne    NaN  65.000000  66.000000      131.0\n"
     ]
    }
   ],
   "source": [
    "from scipy.stats import chi2_contingency as chi2_contingency\n",
    "\n",
    "khi2, pval, ddl, contingent_theorique = chi2_contingency(df[['F','H']])\n",
    "\n",
    "print(\"Tableau des effectifs observés :\\n\", df)\n",
    "\n",
    "# Création d'un tableau des effectifs théoriques\n",
    "df_theorique = df.copy()\n",
    "df_theorique[['F', 'H']] = contingent_theorique\n",
    "\n",
    "print(\"\\nTableau des effectifs théoriques :\\n\", df_theorique)\n"
   ]
  },
  {
   "cell_type": "markdown",
   "metadata": {},
   "source": [
    "### Tableaux des fréquences observés vs théoriques"
   ]
  },
  {
   "cell_type": "code",
   "execution_count": 32,
   "metadata": {},
   "outputs": [
    {
     "name": "stdout",
     "output_type": "stream",
     "text": [
      "Tableau des effectifs observés :\n",
      "                 X\\Y         F         H  freq_ligne\n",
      "NaN           Bac+3  0.343511  0.374046    0.717557\n",
      "NaN           Bac+5  0.122137  0.083969    0.206107\n",
      "NaN           Bac+8  0.030534  0.045802    0.076336\n",
      "freq_colonne    NaN  0.496183  0.503817    1.000000\n",
      "\n",
      "Tableau des effectifs théoriques :\n",
      "                 X\\Y         F         H  freq_ligne\n",
      "NaN           Bac+3  0.356040  0.361517    0.717557\n",
      "NaN           Bac+5  0.102267  0.103840    0.206107\n",
      "NaN           Bac+8  0.037877  0.038459    0.076336\n",
      "freq_colonne    NaN  0.496183  0.503817    1.000000\n"
     ]
    }
   ],
   "source": [
    "khi2_freq, pval_freq, ddl_freq, contingent_theorique_freq = chi2_contingency(df_freq[['F','H']])\n",
    "\n",
    "print(\"Tableau des effectifs observés :\\n\", df_freq)\n",
    "\n",
    "# Création d'un tableau des effectifs théoriques\n",
    "df_freq_theorique = df_freq.copy()\n",
    "df_freq_theorique[['F', 'H']] = contingent_theorique_freq\n",
    "\n",
    "print(\"\\nTableau des effectifs théoriques :\\n\", df_freq_theorique)"
   ]
  },
  {
   "cell_type": "markdown",
   "metadata": {},
   "source": [
    "### Tableau des différences"
   ]
  },
  {
   "cell_type": "code",
   "execution_count": 33,
   "metadata": {},
   "outputs": [
    {
     "name": "stdout",
     "output_type": "stream",
     "text": [
      "     X\\Y         F         H\n",
      "0  Bac+3  0.057752  0.056877\n",
      "1  Bac+5  0.505778  0.498115\n",
      "2  Bac+8  0.186447  0.183622\n"
     ]
    },
    {
     "name": "stderr",
     "output_type": "stream",
     "text": [
      "/tmp/ipykernel_5420/805659912.py:7: SettingWithCopyWarning: \n",
      "A value is trying to be set on a copy of a slice from a DataFrame\n",
      "\n",
      "See the caveats in the documentation: https://pandas.pydata.org/pandas-docs/stable/user_guide/indexing.html#returning-a-view-versus-a-copy\n",
      "  df_diff['F'][:n] = ((df_theorique['F'][:n] - df['F'][:n]) ** 2) / df_theorique['F'][:n]\n",
      "/tmp/ipykernel_5420/805659912.py:8: SettingWithCopyWarning: \n",
      "A value is trying to be set on a copy of a slice from a DataFrame\n",
      "\n",
      "See the caveats in the documentation: https://pandas.pydata.org/pandas-docs/stable/user_guide/indexing.html#returning-a-view-versus-a-copy\n",
      "  df_diff['H'][:n] = ((df_theorique['H'][:n] - df['H'][:n]) ** 2) / df_theorique['H'][:n]\n"
     ]
    }
   ],
   "source": [
    "# Copie du DataFrame original\n",
    "df_diff = df_original.copy()\n",
    "\n",
    "n = len(df_diff)\n",
    "\n",
    "# Calcul de la différence\n",
    "df_diff['F'][:n] = ((df_theorique['F'][:n] - df['F'][:n]) ** 2) / df_theorique['F'][:n]\n",
    "df_diff['H'][:n] = ((df_theorique['H'][:n] - df['H'][:n]) ** 2) / df_theorique['H'][:n]\n",
    "\n",
    "print(df_diff)"
   ]
  },
  {
   "cell_type": "markdown",
   "metadata": {},
   "source": [
    "### Analyse du Khi2"
   ]
  },
  {
   "cell_type": "code",
   "execution_count": 34,
   "metadata": {},
   "outputs": [
    {
     "name": "stdout",
     "output_type": "stream",
     "text": [
      "Khi2 = 1.4885918468187966\n",
      "ddl = 2\n",
      "Seuil = 5.99\n",
      "\n",
      "La distance du chi-deux est inférieure au seuil. On peut dire que les variables sont indépendantes. Ce qui confirme ce qui a été observé avec les profils lignes et colonnes.\n"
     ]
    }
   ],
   "source": [
    "def get_seuil(ddl):\n",
    "    if ddl == 1:\n",
    "        seuil = 3.84\n",
    "    elif ddl == 2:\n",
    "        seuil = 5.99\n",
    "    elif ddl == 3:\n",
    "        seuil = 7.82\n",
    "    elif ddl == 4:\n",
    "        seuil = 9.49\n",
    "    elif ddl == 5:\n",
    "        seuil = 11.07\n",
    "    elif ddl == 6:\n",
    "        seuil = 12.59\n",
    "    elif ddl == 7:\n",
    "        seuil = 14.07\n",
    "    elif ddl == 8:\n",
    "        seuil = 15.51\n",
    "    elif ddl == 9:\n",
    "        seuil = 16.92\n",
    "    return seuil\n",
    "\n",
    "seuil = get_seuil(ddl - 1) # On enlève 1 au ddl car ici il considère la colonne eff_ligne et eff_colonne\n",
    "\n",
    "print(\"Khi2 =\", khi2)\n",
    "print(\"ddl =\", ddl - 1)\n",
    "print(\"Seuil =\", seuil)\n",
    "\n",
    "if (khi2 > seuil):\n",
    "    print(\"\\nLa distance du chi-deux est supérieure au seuil. On admet donc que les variables sont fortement liées. Ce qui confirme ce qui a été observé avec les profils lignes et colonnes.\")\n",
    "else:\n",
    "    print(\"\\nLa distance du chi-deux est inférieure au seuil. On peut dire que les variables sont indépendantes. Ce qui confirme ce qui a été observé avec les profils lignes et colonnes.\")"
   ]
  },
  {
   "cell_type": "markdown",
   "metadata": {},
   "source": [
    "Rappel : Pour un ddl de 2, le seuil vaudra 5.99."
   ]
  }
 ],
 "metadata": {
  "kernelspec": {
   "display_name": "Python 3",
   "language": "python",
   "name": "python3"
  },
  "language_info": {
   "codemirror_mode": {
    "name": "ipython",
    "version": 3
   },
   "file_extension": ".py",
   "mimetype": "text/x-python",
   "name": "python",
   "nbconvert_exporter": "python",
   "pygments_lexer": "ipython3",
   "version": "3.8.10"
  }
 },
 "nbformat": 4,
 "nbformat_minor": 2
}
