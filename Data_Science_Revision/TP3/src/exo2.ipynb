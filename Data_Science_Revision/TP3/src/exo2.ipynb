{
 "cells": [
  {
   "cell_type": "markdown",
   "metadata": {},
   "source": [
    "# Thématique 3 - Analyse bivariée entre variables qualitatives"
   ]
  },
  {
   "cell_type": "markdown",
   "metadata": {},
   "source": [
    "### Importation des librairies"
   ]
  },
  {
   "cell_type": "code",
   "execution_count": 30,
   "metadata": {},
   "outputs": [],
   "source": [
    "import os\n",
    "import numpy as np\n",
    "import pandas as pd\n",
    "import matplotlib.pyplot as plt"
   ]
  },
  {
   "cell_type": "markdown",
   "metadata": {},
   "source": [
    "### Data pre-processing"
   ]
  },
  {
   "cell_type": "code",
   "execution_count": 31,
   "metadata": {},
   "outputs": [
    {
     "data": {
      "text/html": [
       "<div>\n",
       "<style scoped>\n",
       "    .dataframe tbody tr th:only-of-type {\n",
       "        vertical-align: middle;\n",
       "    }\n",
       "\n",
       "    .dataframe tbody tr th {\n",
       "        vertical-align: top;\n",
       "    }\n",
       "\n",
       "    .dataframe thead th {\n",
       "        text-align: right;\n",
       "    }\n",
       "</style>\n",
       "<table border=\"1\" class=\"dataframe\">\n",
       "  <thead>\n",
       "    <tr style=\"text-align: right;\">\n",
       "      <th></th>\n",
       "      <th>Unnamed: 0</th>\n",
       "      <th>15-24</th>\n",
       "      <th>25-49</th>\n",
       "      <th>50 et +</th>\n",
       "      <th>Total</th>\n",
       "      <th>15-24.1</th>\n",
       "      <th>25-49.1</th>\n",
       "      <th>50 et +.1</th>\n",
       "      <th>Total.1</th>\n",
       "    </tr>\n",
       "  </thead>\n",
       "  <tbody>\n",
       "    <tr>\n",
       "      <th>count</th>\n",
       "      <td>0.0</td>\n",
       "      <td>6.000000</td>\n",
       "      <td>6.000000</td>\n",
       "      <td>6.000000</td>\n",
       "      <td>6.000000</td>\n",
       "      <td>6.000000</td>\n",
       "      <td>6.000000</td>\n",
       "      <td>6.000000</td>\n",
       "      <td>6.00000</td>\n",
       "    </tr>\n",
       "    <tr>\n",
       "      <th>mean</th>\n",
       "      <td>NaN</td>\n",
       "      <td>100.533333</td>\n",
       "      <td>333.066667</td>\n",
       "      <td>74.133333</td>\n",
       "      <td>507.733333</td>\n",
       "      <td>102.400000</td>\n",
       "      <td>363.533333</td>\n",
       "      <td>66.866667</td>\n",
       "      <td>532.80000</td>\n",
       "    </tr>\n",
       "    <tr>\n",
       "      <th>std</th>\n",
       "      <td>NaN</td>\n",
       "      <td>109.692090</td>\n",
       "      <td>343.728798</td>\n",
       "      <td>76.659916</td>\n",
       "      <td>524.063064</td>\n",
       "      <td>112.564257</td>\n",
       "      <td>373.987624</td>\n",
       "      <td>69.684135</td>\n",
       "      <td>549.74262</td>\n",
       "    </tr>\n",
       "    <tr>\n",
       "      <th>min</th>\n",
       "      <td>NaN</td>\n",
       "      <td>19.700000</td>\n",
       "      <td>56.400000</td>\n",
       "      <td>11.200000</td>\n",
       "      <td>87.300000</td>\n",
       "      <td>15.500000</td>\n",
       "      <td>40.400000</td>\n",
       "      <td>9.700000</td>\n",
       "      <td>65.60000</td>\n",
       "    </tr>\n",
       "    <tr>\n",
       "      <th>25%</th>\n",
       "      <td>NaN</td>\n",
       "      <td>27.425000</td>\n",
       "      <td>181.875000</td>\n",
       "      <td>30.200000</td>\n",
       "      <td>275.325000</td>\n",
       "      <td>28.775000</td>\n",
       "      <td>193.775000</td>\n",
       "      <td>25.200000</td>\n",
       "      <td>279.32500</td>\n",
       "    </tr>\n",
       "    <tr>\n",
       "      <th>50%</th>\n",
       "      <td>NaN</td>\n",
       "      <td>53.800000</td>\n",
       "      <td>184.550000</td>\n",
       "      <td>54.250000</td>\n",
       "      <td>281.050000</td>\n",
       "      <td>55.800000</td>\n",
       "      <td>236.150000</td>\n",
       "      <td>48.550000</td>\n",
       "      <td>331.80000</td>\n",
       "    </tr>\n",
       "    <tr>\n",
       "      <th>75%</th>\n",
       "      <td>NaN</td>\n",
       "      <td>130.200000</td>\n",
       "      <td>340.675000</td>\n",
       "      <td>73.950000</td>\n",
       "      <td>520.550000</td>\n",
       "      <td>134.200000</td>\n",
       "      <td>357.725000</td>\n",
       "      <td>69.425000</td>\n",
       "      <td>538.47500</td>\n",
       "    </tr>\n",
       "    <tr>\n",
       "      <th>max</th>\n",
       "      <td>NaN</td>\n",
       "      <td>301.600000</td>\n",
       "      <td>999.200000</td>\n",
       "      <td>222.400000</td>\n",
       "      <td>1523.200000</td>\n",
       "      <td>307.200000</td>\n",
       "      <td>1090.600000</td>\n",
       "      <td>200.600000</td>\n",
       "      <td>1598.40000</td>\n",
       "    </tr>\n",
       "  </tbody>\n",
       "</table>\n",
       "</div>"
      ],
      "text/plain": [
       "       Unnamed: 0       15-24       25-49     50 et +        Total  \\\n",
       "count         0.0    6.000000    6.000000    6.000000     6.000000   \n",
       "mean          NaN  100.533333  333.066667   74.133333   507.733333   \n",
       "std           NaN  109.692090  343.728798   76.659916   524.063064   \n",
       "min           NaN   19.700000   56.400000   11.200000    87.300000   \n",
       "25%           NaN   27.425000  181.875000   30.200000   275.325000   \n",
       "50%           NaN   53.800000  184.550000   54.250000   281.050000   \n",
       "75%           NaN  130.200000  340.675000   73.950000   520.550000   \n",
       "max           NaN  301.600000  999.200000  222.400000  1523.200000   \n",
       "\n",
       "          15-24.1      25-49.1   50 et +.1     Total.1  \n",
       "count    6.000000     6.000000    6.000000     6.00000  \n",
       "mean   102.400000   363.533333   66.866667   532.80000  \n",
       "std    112.564257   373.987624   69.684135   549.74262  \n",
       "min     15.500000    40.400000    9.700000    65.60000  \n",
       "25%     28.775000   193.775000   25.200000   279.32500  \n",
       "50%     55.800000   236.150000   48.550000   331.80000  \n",
       "75%    134.200000   357.725000   69.425000   538.47500  \n",
       "max    307.200000  1090.600000  200.600000  1598.40000  "
      ]
     },
     "execution_count": 31,
     "metadata": {},
     "output_type": "execute_result"
    }
   ],
   "source": [
    "# Préparation du fichier de données\n",
    "filepath = \"../data\"\n",
    "filename = \"Chomage.xlsx\"\n",
    "file = os.path.join(filepath, filename)\n",
    "\n",
    "# Lecture des données\n",
    "df_original = pd.read_excel(file, skiprows=5)\n",
    "df = df_original.copy()\n",
    "\n",
    "# Affichage des indicateurs de positions et de dispersions\n",
    "df.describe()"
   ]
  },
  {
   "cell_type": "markdown",
   "metadata": {},
   "source": [
    "Ce jeu de données comptabilise la durée du chômage en fonction de l'âge tous sexes confondus. Ici nous ne pouvons pas compter directement le nombre d'individus car les variables sont qualitatives. Pour connaître le nombre d'individus de l'entreprise, il faudra calculer l'effectif total ou par lecture du tableau de contigence. Malgré tout, il y entre 19 et 301 personnes au chômage pour n'importe qu'elle durée."
   ]
  },
  {
   "cell_type": "code",
   "execution_count": 32,
   "metadata": {},
   "outputs": [
    {
     "data": {
      "text/html": [
       "<div>\n",
       "<style scoped>\n",
       "    .dataframe tbody tr th:only-of-type {\n",
       "        vertical-align: middle;\n",
       "    }\n",
       "\n",
       "    .dataframe tbody tr th {\n",
       "        vertical-align: top;\n",
       "    }\n",
       "\n",
       "    .dataframe thead th {\n",
       "        text-align: right;\n",
       "    }\n",
       "</style>\n",
       "<table border=\"1\" class=\"dataframe\">\n",
       "  <thead>\n",
       "    <tr style=\"text-align: right;\">\n",
       "      <th></th>\n",
       "      <th>Unnamed: 0</th>\n",
       "      <th>Unnamed: 1</th>\n",
       "      <th>15-24</th>\n",
       "      <th>25-49</th>\n",
       "      <th>50 et +</th>\n",
       "      <th>Total</th>\n",
       "      <th>15-24.1</th>\n",
       "      <th>25-49.1</th>\n",
       "      <th>50 et +.1</th>\n",
       "      <th>Total.1</th>\n",
       "    </tr>\n",
       "  </thead>\n",
       "  <tbody>\n",
       "    <tr>\n",
       "      <th>0</th>\n",
       "      <td>NaN</td>\n",
       "      <td>Non renseigné</td>\n",
       "      <td>19.7</td>\n",
       "      <td>56.4</td>\n",
       "      <td>11.2</td>\n",
       "      <td>87.3</td>\n",
       "      <td>15.5</td>\n",
       "      <td>40.4</td>\n",
       "      <td>9.7</td>\n",
       "      <td>65.6</td>\n",
       "    </tr>\n",
       "    <tr>\n",
       "      <th>1</th>\n",
       "      <td>NaN</td>\n",
       "      <td>Moins de 3 mois</td>\n",
       "      <td>71.1</td>\n",
       "      <td>182.1</td>\n",
       "      <td>23.1</td>\n",
       "      <td>276.3</td>\n",
       "      <td>64.9</td>\n",
       "      <td>182.8</td>\n",
       "      <td>18.2</td>\n",
       "      <td>265.9</td>\n",
       "    </tr>\n",
       "    <tr>\n",
       "      <th>2</th>\n",
       "      <td>NaN</td>\n",
       "      <td>De 3 mois à 1 an</td>\n",
       "      <td>149.9</td>\n",
       "      <td>391.9</td>\n",
       "      <td>57.0</td>\n",
       "      <td>598.8</td>\n",
       "      <td>157.3</td>\n",
       "      <td>395.1</td>\n",
       "      <td>50.9</td>\n",
       "      <td>603.3</td>\n",
       "    </tr>\n",
       "    <tr>\n",
       "      <th>3</th>\n",
       "      <td>NaN</td>\n",
       "      <td>De 1 an à moins de 2 ans</td>\n",
       "      <td>36.5</td>\n",
       "      <td>187.0</td>\n",
       "      <td>51.5</td>\n",
       "      <td>275.0</td>\n",
       "      <td>46.7</td>\n",
       "      <td>226.7</td>\n",
       "      <td>46.2</td>\n",
       "      <td>319.6</td>\n",
       "    </tr>\n",
       "    <tr>\n",
       "      <th>4</th>\n",
       "      <td>NaN</td>\n",
       "      <td>2 ans et plus</td>\n",
       "      <td>24.4</td>\n",
       "      <td>181.8</td>\n",
       "      <td>79.6</td>\n",
       "      <td>285.8</td>\n",
       "      <td>22.8</td>\n",
       "      <td>245.6</td>\n",
       "      <td>75.6</td>\n",
       "      <td>344.0</td>\n",
       "    </tr>\n",
       "  </tbody>\n",
       "</table>\n",
       "</div>"
      ],
      "text/plain": [
       "   Unnamed: 0                Unnamed: 1  15-24  25-49  50 et +  Total  \\\n",
       "0         NaN             Non renseigné   19.7   56.4     11.2   87.3   \n",
       "1         NaN           Moins de 3 mois   71.1  182.1     23.1  276.3   \n",
       "2         NaN          De 3 mois à 1 an  149.9  391.9     57.0  598.8   \n",
       "3         NaN  De 1 an à moins de 2 ans   36.5  187.0     51.5  275.0   \n",
       "4         NaN             2 ans et plus   24.4  181.8     79.6  285.8   \n",
       "\n",
       "   15-24.1  25-49.1  50 et +.1  Total.1  \n",
       "0     15.5     40.4        9.7     65.6  \n",
       "1     64.9    182.8       18.2    265.9  \n",
       "2    157.3    395.1       50.9    603.3  \n",
       "3     46.7    226.7       46.2    319.6  \n",
       "4     22.8    245.6       75.6    344.0  "
      ]
     },
     "execution_count": 32,
     "metadata": {},
     "output_type": "execute_result"
    }
   ],
   "source": [
    "df.head()"
   ]
  },
  {
   "cell_type": "code",
   "execution_count": 33,
   "metadata": {},
   "outputs": [
    {
     "data": {
      "text/html": [
       "<div>\n",
       "<style scoped>\n",
       "    .dataframe tbody tr th:only-of-type {\n",
       "        vertical-align: middle;\n",
       "    }\n",
       "\n",
       "    .dataframe tbody tr th {\n",
       "        vertical-align: top;\n",
       "    }\n",
       "\n",
       "    .dataframe thead th {\n",
       "        text-align: right;\n",
       "    }\n",
       "</style>\n",
       "<table border=\"1\" class=\"dataframe\">\n",
       "  <thead>\n",
       "    <tr style=\"text-align: right;\">\n",
       "      <th></th>\n",
       "      <th>Unnamed: 0</th>\n",
       "      <th>Unnamed: 1</th>\n",
       "      <th>15-24</th>\n",
       "      <th>25-49</th>\n",
       "      <th>50 et +</th>\n",
       "      <th>Total</th>\n",
       "      <th>15-24.1</th>\n",
       "      <th>25-49.1</th>\n",
       "      <th>50 et +.1</th>\n",
       "      <th>Total.1</th>\n",
       "    </tr>\n",
       "  </thead>\n",
       "  <tbody>\n",
       "    <tr>\n",
       "      <th>1</th>\n",
       "      <td>NaN</td>\n",
       "      <td>Moins de 3 mois</td>\n",
       "      <td>71.1</td>\n",
       "      <td>182.1</td>\n",
       "      <td>23.1</td>\n",
       "      <td>276.3</td>\n",
       "      <td>64.9</td>\n",
       "      <td>182.8</td>\n",
       "      <td>18.2</td>\n",
       "      <td>265.9</td>\n",
       "    </tr>\n",
       "    <tr>\n",
       "      <th>2</th>\n",
       "      <td>NaN</td>\n",
       "      <td>De 3 mois à 1 an</td>\n",
       "      <td>149.9</td>\n",
       "      <td>391.9</td>\n",
       "      <td>57.0</td>\n",
       "      <td>598.8</td>\n",
       "      <td>157.3</td>\n",
       "      <td>395.1</td>\n",
       "      <td>50.9</td>\n",
       "      <td>603.3</td>\n",
       "    </tr>\n",
       "    <tr>\n",
       "      <th>3</th>\n",
       "      <td>NaN</td>\n",
       "      <td>De 1 an à moins de 2 ans</td>\n",
       "      <td>36.5</td>\n",
       "      <td>187.0</td>\n",
       "      <td>51.5</td>\n",
       "      <td>275.0</td>\n",
       "      <td>46.7</td>\n",
       "      <td>226.7</td>\n",
       "      <td>46.2</td>\n",
       "      <td>319.6</td>\n",
       "    </tr>\n",
       "    <tr>\n",
       "      <th>4</th>\n",
       "      <td>NaN</td>\n",
       "      <td>2 ans et plus</td>\n",
       "      <td>24.4</td>\n",
       "      <td>181.8</td>\n",
       "      <td>79.6</td>\n",
       "      <td>285.8</td>\n",
       "      <td>22.8</td>\n",
       "      <td>245.6</td>\n",
       "      <td>75.6</td>\n",
       "      <td>344.0</td>\n",
       "    </tr>\n",
       "    <tr>\n",
       "      <th>5</th>\n",
       "      <td>NaN</td>\n",
       "      <td>Total</td>\n",
       "      <td>301.6</td>\n",
       "      <td>999.2</td>\n",
       "      <td>222.4</td>\n",
       "      <td>1523.2</td>\n",
       "      <td>307.2</td>\n",
       "      <td>1090.6</td>\n",
       "      <td>200.6</td>\n",
       "      <td>1598.4</td>\n",
       "    </tr>\n",
       "  </tbody>\n",
       "</table>\n",
       "</div>"
      ],
      "text/plain": [
       "   Unnamed: 0                Unnamed: 1  15-24  25-49  50 et +   Total  \\\n",
       "1         NaN           Moins de 3 mois   71.1  182.1     23.1   276.3   \n",
       "2         NaN          De 3 mois à 1 an  149.9  391.9     57.0   598.8   \n",
       "3         NaN  De 1 an à moins de 2 ans   36.5  187.0     51.5   275.0   \n",
       "4         NaN             2 ans et plus   24.4  181.8     79.6   285.8   \n",
       "5         NaN                     Total  301.6  999.2    222.4  1523.2   \n",
       "\n",
       "   15-24.1  25-49.1  50 et +.1  Total.1  \n",
       "1     64.9    182.8       18.2    265.9  \n",
       "2    157.3    395.1       50.9    603.3  \n",
       "3     46.7    226.7       46.2    319.6  \n",
       "4     22.8    245.6       75.6    344.0  \n",
       "5    307.2   1090.6      200.6   1598.4  "
      ]
     },
     "execution_count": 33,
     "metadata": {},
     "output_type": "execute_result"
    }
   ],
   "source": [
    "df.tail()"
   ]
  },
  {
   "cell_type": "code",
   "execution_count": 34,
   "metadata": {},
   "outputs": [
    {
     "data": {
      "text/plain": [
       "(6, 10)"
      ]
     },
     "execution_count": 34,
     "metadata": {},
     "output_type": "execute_result"
    }
   ],
   "source": [
    "df.shape"
   ]
  },
  {
   "cell_type": "code",
   "execution_count": 35,
   "metadata": {},
   "outputs": [
    {
     "data": {
      "text/plain": [
       "Unnamed: 0    float64\n",
       "Unnamed: 1     object\n",
       "15-24         float64\n",
       "25-49         float64\n",
       "50 et +       float64\n",
       "Total         float64\n",
       "15-24.1       float64\n",
       "25-49.1       float64\n",
       "50 et +.1     float64\n",
       "Total.1       float64\n",
       "dtype: object"
      ]
     },
     "execution_count": 35,
     "metadata": {},
     "output_type": "execute_result"
    }
   ],
   "source": [
    "df.dtypes"
   ]
  },
  {
   "cell_type": "code",
   "execution_count": 36,
   "metadata": {},
   "outputs": [
    {
     "name": "stdout",
     "output_type": "stream",
     "text": [
      "<class 'pandas.core.frame.DataFrame'>\n",
      "RangeIndex: 6 entries, 0 to 5\n",
      "Data columns (total 10 columns):\n",
      " #   Column      Non-Null Count  Dtype  \n",
      "---  ------      --------------  -----  \n",
      " 0   Unnamed: 0  0 non-null      float64\n",
      " 1   Unnamed: 1  6 non-null      object \n",
      " 2   15-24       6 non-null      float64\n",
      " 3   25-49       6 non-null      float64\n",
      " 4   50 et +     6 non-null      float64\n",
      " 5   Total       6 non-null      float64\n",
      " 6   15-24.1     6 non-null      float64\n",
      " 7   25-49.1     6 non-null      float64\n",
      " 8   50 et +.1   6 non-null      float64\n",
      " 9   Total.1     6 non-null      float64\n",
      "dtypes: float64(9), object(1)\n",
      "memory usage: 608.0+ bytes\n"
     ]
    }
   ],
   "source": [
    "df.info()"
   ]
  },
  {
   "cell_type": "code",
   "execution_count": 37,
   "metadata": {},
   "outputs": [
    {
     "data": {
      "text/plain": [
       "Index(['Unnamed: 0', 'Unnamed: 1', '15-24', '25-49', '50 et +', 'Total',\n",
       "       '15-24.1', '25-49.1', '50 et +.1', 'Total.1'],\n",
       "      dtype='object')"
      ]
     },
     "execution_count": 37,
     "metadata": {},
     "output_type": "execute_result"
    }
   ],
   "source": [
    "df.columns"
   ]
  },
  {
   "cell_type": "markdown",
   "metadata": {},
   "source": [
    "Explication des variables :\n",
    "- Unnamed 0 et 1 : Variables créées par panda par lecture du tableau, mais ces variables n'existent pas dans le dataset\n",
    "- 15-24, 25-49 et 50 et + : Nombre d'hommes au chômage par tranches d'âge\n",
    "- Total: Total d'hommes au chômage\n",
    "- 15-241, 25-49.1 et 50 et +.1 : Nombre de femmes au chômage par tranches d'âge\n",
    "- Total.: Total de femmes au chômage"
   ]
  },
  {
   "cell_type": "code",
   "execution_count": 38,
   "metadata": {},
   "outputs": [
    {
     "data": {
      "text/plain": [
       "Unnamed: 0    6\n",
       "Unnamed: 1    0\n",
       "15-24         0\n",
       "25-49         0\n",
       "50 et +       0\n",
       "Total         0\n",
       "15-24.1       0\n",
       "25-49.1       0\n",
       "50 et +.1     0\n",
       "Total.1       0\n",
       "dtype: int64"
      ]
     },
     "execution_count": 38,
     "metadata": {},
     "output_type": "execute_result"
    }
   ],
   "source": [
    "df.isnull().sum()"
   ]
  },
  {
   "cell_type": "markdown",
   "metadata": {},
   "source": [
    "### Préparation du tableau de données"
   ]
  },
  {
   "cell_type": "code",
   "execution_count": 39,
   "metadata": {},
   "outputs": [
    {
     "data": {
      "text/html": [
       "<div>\n",
       "<style scoped>\n",
       "    .dataframe tbody tr th:only-of-type {\n",
       "        vertical-align: middle;\n",
       "    }\n",
       "\n",
       "    .dataframe tbody tr th {\n",
       "        vertical-align: top;\n",
       "    }\n",
       "\n",
       "    .dataframe thead th {\n",
       "        text-align: right;\n",
       "    }\n",
       "</style>\n",
       "<table border=\"1\" class=\"dataframe\">\n",
       "  <thead>\n",
       "    <tr style=\"text-align: right;\">\n",
       "      <th></th>\n",
       "      <th>Unnamed: 0</th>\n",
       "      <th>Unnamed: 1</th>\n",
       "      <th>15-24</th>\n",
       "      <th>25-49</th>\n",
       "      <th>50 et +</th>\n",
       "      <th>Total</th>\n",
       "      <th>15-24.1</th>\n",
       "      <th>25-49.1</th>\n",
       "      <th>50 et +.1</th>\n",
       "      <th>Total.1</th>\n",
       "    </tr>\n",
       "  </thead>\n",
       "  <tbody>\n",
       "    <tr>\n",
       "      <th>0</th>\n",
       "      <td>NaN</td>\n",
       "      <td>Non renseigné</td>\n",
       "      <td>19.7</td>\n",
       "      <td>56.4</td>\n",
       "      <td>11.2</td>\n",
       "      <td>87.3</td>\n",
       "      <td>15.5</td>\n",
       "      <td>40.4</td>\n",
       "      <td>9.7</td>\n",
       "      <td>65.6</td>\n",
       "    </tr>\n",
       "    <tr>\n",
       "      <th>1</th>\n",
       "      <td>NaN</td>\n",
       "      <td>Moins de 3 mois</td>\n",
       "      <td>71.1</td>\n",
       "      <td>182.1</td>\n",
       "      <td>23.1</td>\n",
       "      <td>276.3</td>\n",
       "      <td>64.9</td>\n",
       "      <td>182.8</td>\n",
       "      <td>18.2</td>\n",
       "      <td>265.9</td>\n",
       "    </tr>\n",
       "    <tr>\n",
       "      <th>2</th>\n",
       "      <td>NaN</td>\n",
       "      <td>De 3 mois à 1 an</td>\n",
       "      <td>149.9</td>\n",
       "      <td>391.9</td>\n",
       "      <td>57.0</td>\n",
       "      <td>598.8</td>\n",
       "      <td>157.3</td>\n",
       "      <td>395.1</td>\n",
       "      <td>50.9</td>\n",
       "      <td>603.3</td>\n",
       "    </tr>\n",
       "    <tr>\n",
       "      <th>3</th>\n",
       "      <td>NaN</td>\n",
       "      <td>De 1 an à moins de 2 ans</td>\n",
       "      <td>36.5</td>\n",
       "      <td>187.0</td>\n",
       "      <td>51.5</td>\n",
       "      <td>275.0</td>\n",
       "      <td>46.7</td>\n",
       "      <td>226.7</td>\n",
       "      <td>46.2</td>\n",
       "      <td>319.6</td>\n",
       "    </tr>\n",
       "    <tr>\n",
       "      <th>4</th>\n",
       "      <td>NaN</td>\n",
       "      <td>2 ans et plus</td>\n",
       "      <td>24.4</td>\n",
       "      <td>181.8</td>\n",
       "      <td>79.6</td>\n",
       "      <td>285.8</td>\n",
       "      <td>22.8</td>\n",
       "      <td>245.6</td>\n",
       "      <td>75.6</td>\n",
       "      <td>344.0</td>\n",
       "    </tr>\n",
       "    <tr>\n",
       "      <th>5</th>\n",
       "      <td>NaN</td>\n",
       "      <td>Total</td>\n",
       "      <td>301.6</td>\n",
       "      <td>999.2</td>\n",
       "      <td>222.4</td>\n",
       "      <td>1523.2</td>\n",
       "      <td>307.2</td>\n",
       "      <td>1090.6</td>\n",
       "      <td>200.6</td>\n",
       "      <td>1598.4</td>\n",
       "    </tr>\n",
       "  </tbody>\n",
       "</table>\n",
       "</div>"
      ],
      "text/plain": [
       "   Unnamed: 0                Unnamed: 1  15-24  25-49  50 et +   Total  \\\n",
       "0         NaN             Non renseigné   19.7   56.4     11.2    87.3   \n",
       "1         NaN           Moins de 3 mois   71.1  182.1     23.1   276.3   \n",
       "2         NaN          De 3 mois à 1 an  149.9  391.9     57.0   598.8   \n",
       "3         NaN  De 1 an à moins de 2 ans   36.5  187.0     51.5   275.0   \n",
       "4         NaN             2 ans et plus   24.4  181.8     79.6   285.8   \n",
       "5         NaN                     Total  301.6  999.2    222.4  1523.2   \n",
       "\n",
       "   15-24.1  25-49.1  50 et +.1  Total.1  \n",
       "0     15.5     40.4        9.7     65.6  \n",
       "1     64.9    182.8       18.2    265.9  \n",
       "2    157.3    395.1       50.9    603.3  \n",
       "3     46.7    226.7       46.2    319.6  \n",
       "4     22.8    245.6       75.6    344.0  \n",
       "5    307.2   1090.6      200.6   1598.4  "
      ]
     },
     "execution_count": 39,
     "metadata": {},
     "output_type": "execute_result"
    }
   ],
   "source": [
    "# tableau avant préparation\n",
    "df"
   ]
  },
  {
   "cell_type": "code",
   "execution_count": 40,
   "metadata": {},
   "outputs": [
    {
     "name": "stdout",
     "output_type": "stream",
     "text": [
      "      Ancienneté de chômage  15-24   25-49  50 et +\n",
      "0             Non renseigné   35.2    96.8     20.9\n",
      "1           Moins de 3 mois  136.0   364.9     41.3\n",
      "2          De 3 mois à 1 an  307.2   787.0    107.9\n",
      "3  De 1 an à moins de 2 ans   83.2   413.7     97.7\n",
      "4             2 ans et plus   47.2   427.4    155.2\n",
      "5                     Total  608.8  2089.8    423.0\n"
     ]
    }
   ],
   "source": [
    "# Création du tableau df_eff par addition des rubriques femmes et hommes\n",
    "df = pd.DataFrame({\n",
    "    'Ancienneté de chômage': df['Unnamed: 1'],\n",
    "    '15-24': df['15-24'] + df['15-24.1'],\n",
    "    '25-49': df['25-49'] + df['25-49.1'],\n",
    "    '50 et +': df['50 et +'] + df['50 et +.1']\n",
    "})\n",
    "\n",
    "# Affichage du nouveau DataFrame\n",
    "print(df)"
   ]
  },
  {
   "cell_type": "markdown",
   "metadata": {},
   "source": [
    "Maintenant que nous avons le tableau de contingence, nous allons pouvoir passer à la mise en place du test d'indépendance entre l'âge et l'ancienneté de chômage."
   ]
  },
  {
   "cell_type": "markdown",
   "metadata": {},
   "source": [
    "### Calcul des effectifs marginaux"
   ]
  },
  {
   "cell_type": "code",
   "execution_count": 41,
   "metadata": {},
   "outputs": [
    {
     "name": "stdout",
     "output_type": "stream",
     "text": [
      "      Ancienneté de chômage  15-24   25-49  50 et +   Total\n",
      "0             Non renseigné   35.2    96.8     20.9   152.9\n",
      "1           Moins de 3 mois  136.0   364.9     41.3   542.2\n",
      "2          De 3 mois à 1 an  307.2   787.0    107.9  1202.1\n",
      "3  De 1 an à moins de 2 ans   83.2   413.7     97.7   594.6\n",
      "4             2 ans et plus   47.2   427.4    155.2   629.8\n",
      "5                     Total  608.8  2089.8    423.0  3121.6\n"
     ]
    }
   ],
   "source": [
    "# Création d'un tableau de fréquences\n",
    "df_eff= df.copy()\n",
    "\n",
    "# Calcul de la somme des lignes (Total)\n",
    "df_eff['Total'] = df['15-24'] + df['25-49'] + df['50 et +']\n",
    "\n",
    "print(df_eff)"
   ]
  },
  {
   "cell_type": "markdown",
   "metadata": {},
   "source": [
    "### Calcul des fréquences marginales"
   ]
  },
  {
   "cell_type": "code",
   "execution_count": 42,
   "metadata": {},
   "outputs": [
    {
     "name": "stdout",
     "output_type": "stream",
     "text": [
      "      Ancienneté de chômage     15-24     25-49   50 et +     Total\n",
      "0             Non renseigné  0.011276  0.031010  0.006695  0.048981\n",
      "1           Moins de 3 mois  0.043567  0.116895  0.013230  0.173693\n",
      "2          De 3 mois à 1 an  0.098411  0.252114  0.034566  0.385091\n",
      "3  De 1 an à moins de 2 ans  0.026653  0.132528  0.031298  0.190479\n",
      "4             2 ans et plus  0.015120  0.136917  0.049718  0.201756\n",
      "5                     Total  0.195028  0.669464  0.135507  1.000000\n"
     ]
    }
   ],
   "source": [
    "# Création d'un tableau de fréquences\n",
    "df_freq = df_eff.copy()\n",
    "\n",
    "total_general = df_eff[df_eff['Ancienneté de chômage'] == 'Total']['Total'].values[0].round(1)\n",
    "\n",
    "# Calcul des fréquences de chaque case\n",
    "df_freq[['15-24', '25-49', '50 et +', 'Total']] = df_freq[['15-24', '25-49', '50 et +', 'Total']] / total_general\n",
    "\n",
    "# Affichage du tableau de fréquences\n",
    "print(df_freq)"
   ]
  },
  {
   "cell_type": "markdown",
   "metadata": {},
   "source": [
    "## Distance du Khi2\n",
    "### Tableaux des effectifs observés vs théoriques"
   ]
  },
  {
   "cell_type": "code",
   "execution_count": 43,
   "metadata": {},
   "outputs": [],
   "source": [
    "def compute_total(df):\n",
    "    header = list(df.columns)\n",
    "    header = [col for col in header if col != 'Ancienneté de chômage']\n",
    "\n",
    "    # Calcul de la somme des lignes (eff_ligne)\n",
    "    df['Total'] = 0\n",
    "\n",
    "    for elt in header:\n",
    "        df['Total'] += df[elt]\n",
    "\n",
    "    # Calcul de la somme des colonnes (eff_colonne)\n",
    "    eff_colonne = df[header].sum()\n",
    "    eff_colonne['Total'] = sum(eff_colonne)\n",
    "\n",
    "    # Ajout d'une ligne pour les \"eff_colonne\"\n",
    "    df.loc['Total'] = eff_colonne\n",
    "\n",
    "    return df"
   ]
  },
  {
   "cell_type": "code",
   "execution_count": 44,
   "metadata": {},
   "outputs": [
    {
     "name": "stdout",
     "output_type": "stream",
     "text": [
      "Tableau des effectifs observés :\n",
      "       Ancienneté de chômage  15-24   25-49  50 et +   Total\n",
      "0             Non renseigné   35.2    96.8     20.9   152.9\n",
      "1           Moins de 3 mois  136.0   364.9     41.3   542.2\n",
      "2          De 3 mois à 1 an  307.2   787.0    107.9  1202.1\n",
      "3  De 1 an à moins de 2 ans   83.2   413.7     97.7   594.6\n",
      "4             2 ans et plus   47.2   427.4    155.2   629.8\n",
      "5                     Total  608.8  2089.8    423.0  3121.6\n",
      "\n",
      "Tableau des effectifs théoriques :\n",
      "           Ancienneté de chômage       15-24        25-49     50 et +   Total\n",
      "0                 Non renseigné   29.819810   102.361103   20.719086   152.9\n",
      "1               Moins de 3 mois  105.744285   362.983585   73.472130   542.2\n",
      "2              De 3 mois à 1 an  234.443388   804.763128  162.893484  1202.1\n",
      "3      De 1 an à moins de 2 ans  115.963762   398.063519   80.572719   594.6\n",
      "4                 2 ans et plus  122.828754   421.628665   85.342581   629.8\n",
      "Total                       NaN  608.800000  2089.800000  423.000000  3121.6\n"
     ]
    }
   ],
   "source": [
    "from scipy.stats import chi2_contingency as chi2_contingency\n",
    "\n",
    "khi2, pval, ddl, contingent_theorique = chi2_contingency(df_eff[['15-24', '25-49', '50 et +']].iloc[:-1])\n",
    "\n",
    "print(\"Tableau des effectifs observés :\\n\", df_eff)\n",
    "\n",
    "# Création d'un tableau des effectifs théoriques\n",
    "df_theorique = df.copy().iloc[:-1]\n",
    "df_theorique[['15-24', '25-49', '50 et +']] = contingent_theorique\n",
    "\n",
    "df_theorique = compute_total(df_theorique)\n",
    "\n",
    "print(\"\\nTableau des effectifs théoriques :\\n\", df_theorique)"
   ]
  },
  {
   "cell_type": "markdown",
   "metadata": {},
   "source": [
    "### Tableaux des fréquences observés vs théoriques"
   ]
  },
  {
   "cell_type": "code",
   "execution_count": 45,
   "metadata": {},
   "outputs": [
    {
     "name": "stdout",
     "output_type": "stream",
     "text": [
      "Tableau des effectifs observés :\n",
      "       Ancienneté de chômage     15-24     25-49   50 et +     Total\n",
      "0             Non renseigné  0.011276  0.031010  0.006695  0.048981\n",
      "1           Moins de 3 mois  0.043567  0.116895  0.013230  0.173693\n",
      "2          De 3 mois à 1 an  0.098411  0.252114  0.034566  0.385091\n",
      "3  De 1 an à moins de 2 ans  0.026653  0.132528  0.031298  0.190479\n",
      "4             2 ans et plus  0.015120  0.136917  0.049718  0.201756\n",
      "5                     Total  0.195028  0.669464  0.135507  1.000000\n",
      "\n",
      "Tableau des effectifs théoriques :\n",
      "           Ancienneté de chômage     15-24     25-49   50 et +     Total\n",
      "0                 Non renseigné  0.009553  0.032791  0.006637  0.048981\n",
      "1               Moins de 3 mois  0.033875  0.116281  0.023537  0.173693\n",
      "2              De 3 mois à 1 an  0.075104  0.257805  0.052183  0.385091\n",
      "3      De 1 an à moins de 2 ans  0.037149  0.127519  0.025811  0.190479\n",
      "4                 2 ans et plus  0.039348  0.135068  0.027339  0.201756\n",
      "Total                       NaN  0.195028  0.669464  0.135507  1.000000\n"
     ]
    }
   ],
   "source": [
    "khi2_freq, pval_freq, ddl_freq, contingent_theorique_freq = chi2_contingency(df_freq[['15-24', '25-49', '50 et +']].iloc[:-1])\n",
    "\n",
    "print(\"Tableau des effectifs observés :\\n\", df_freq)\n",
    "\n",
    "# Création d'un tableau des fréquences théoriques\n",
    "df_freq_theorique = df.copy().iloc[:-1]\n",
    "df_freq_theorique[['15-24', '25-49', '50 et +']] = contingent_theorique_freq\n",
    "\n",
    "df_freq_theorique = compute_total(df_freq_theorique)\n",
    "print(\"\\nTableau des effectifs théoriques :\\n\", df_freq_theorique)"
   ]
  },
  {
   "cell_type": "markdown",
   "metadata": {},
   "source": [
    "### Tableau des différences"
   ]
  },
  {
   "cell_type": "code",
   "execution_count": 46,
   "metadata": {},
   "outputs": [
    {
     "name": "stdout",
     "output_type": "stream",
     "text": [
      "      Ancienneté de chômage      15-24     25-49    50 et +\n",
      "0             Non renseigné   0.970712  0.302125   0.001580\n",
      "1           Moins de 3 mois   8.656811  0.010118  14.087599\n",
      "2          De 3 mois à 1 an  22.579117  0.392077  18.566018\n",
      "3  De 1 an à moins de 2 ans   9.256893  0.614222   3.640733\n",
      "4             2 ans et plus  46.566527  0.078999  57.181995\n"
     ]
    }
   ],
   "source": [
    "# Copie du DataFrame original\n",
    "df_diff = df.copy().iloc[:-1]\n",
    "\n",
    "n = len(df_diff)\n",
    "\n",
    "# Calcul de la différence\n",
    "for elt in df_diff.columns:\n",
    "    if elt != 'Ancienneté de chômage':\n",
    "        df_diff[elt][:n] = ((df_theorique[elt][:n] - df[elt][:n]) ** 2) / df_theorique[elt][:n]\n",
    "\n",
    "print(df_diff)"
   ]
  },
  {
   "cell_type": "markdown",
   "metadata": {},
   "source": [
    "### Analyse du Khi2"
   ]
  },
  {
   "cell_type": "code",
   "execution_count": 47,
   "metadata": {},
   "outputs": [
    {
     "name": "stdout",
     "output_type": "stream",
     "text": [
      "Khi2 = 182.90552494171797\n",
      "ddl = 8\n",
      "Seuil = 15.51\n",
      "\n",
      "La distance du chi-deux est supérieure au seuil. On admet donc que les variables sont fortement liées.\n"
     ]
    }
   ],
   "source": [
    "def get_seuil(ddl):\n",
    "    if ddl == 1:\n",
    "        seuil = 3.84\n",
    "    elif ddl == 2:\n",
    "        seuil = 5.99\n",
    "    elif ddl == 3:\n",
    "        seuil = 7.82\n",
    "    elif ddl == 4:\n",
    "        seuil = 9.49\n",
    "    elif ddl == 5:\n",
    "        seuil = 11.07\n",
    "    elif ddl == 6:\n",
    "        seuil = 12.59\n",
    "    elif ddl == 7:\n",
    "        seuil = 14.07\n",
    "    elif ddl == 8:\n",
    "        seuil = 15.51\n",
    "    elif ddl == 9:\n",
    "        seuil = 16.92\n",
    "    return seuil\n",
    "\n",
    "seuil = get_seuil(ddl) # On enlève 1 au ddl car ici il considère la colonne eff_ligne et eff_colonne\n",
    "\n",
    "print(\"Khi2 =\", khi2)\n",
    "print(\"ddl =\", ddl)\n",
    "print(\"Seuil =\", seuil)\n",
    "\n",
    "if (khi2 > seuil):\n",
    "    print(\"\\nLa distance du chi-deux est supérieure au seuil. On admet donc que les variables sont fortement liées.\")\n",
    "else:\n",
    "    print(\"\\nLa distance du chi-deux est inférieure au seuil. On peut dire que les variables sont indépendantes. Ce qui confirme ce qui a été observé avec les profils lignes et colonnes.\")"
   ]
  },
  {
   "cell_type": "markdown",
   "metadata": {},
   "source": [
    "### Profils lignes"
   ]
  },
  {
   "cell_type": "code",
   "execution_count": 48,
   "metadata": {},
   "outputs": [
    {
     "name": "stdout",
     "output_type": "stream",
     "text": [
      "      Ancienneté de chômage     15-24     25-49   50 et +  Total\n",
      "0             Non renseigné  0.230216  0.633094  0.136691    1.0\n",
      "1           Moins de 3 mois  0.250830  0.672999  0.076171    1.0\n",
      "2          De 3 mois à 1 an  0.255553  0.654688  0.089760    1.0\n",
      "3  De 1 an à moins de 2 ans  0.139926  0.695762  0.164312    1.0\n",
      "4             2 ans et plus  0.074944  0.678628  0.246427    1.0\n",
      "5        Profil ligne moyen  0.195028  0.669464  0.135507    1.0\n"
     ]
    }
   ],
   "source": [
    "# Création d'un tableau de profils lignes\n",
    "df_profil = df_eff.copy()\n",
    "\n",
    "# # Renommer les colonnes dans df_profil\n",
    "df_profil.loc[df_profil['Ancienneté de chômage'] == 'Total', 'Ancienneté de chômage'] = 'Profil ligne moyen'\n",
    "\n",
    "# Total de chaque ligne\n",
    "total_ligne = df_profil['Total']\n",
    "\n",
    "# Calcul de chaque profil ligne\n",
    "for elt in df_profil.columns:\n",
    "    if elt != 'Ancienneté de chômage':\n",
    "        df_profil[elt] /= total_ligne\n",
    "\n",
    "# # Affichage du tableau des profils lignes\n",
    "print(df_profil)"
   ]
  },
  {
   "cell_type": "markdown",
   "metadata": {},
   "source": [
    "### Histogramme des profils lignes"
   ]
  },
  {
   "cell_type": "code",
   "execution_count": 53,
   "metadata": {},
   "outputs": [
    {
     "data": {
      "image/png": "[encoded data removed]",
      "text/plain": [
       "<Figure size 640x480 with 1 Axes>"
      ]
     },
     "metadata": {},
     "output_type": "display_data"
    }
   ],
   "source": [
    "# Suppression de la colonne 'total' et de la ligne 'freq_marginale' si elles existent\n",
    "df_profil_temp = df_profil.drop(columns=['Total'], errors='ignore')\n",
    "\n",
    "# Tracé de l'histogramme empilé\n",
    "ax = df_profil_temp.set_index('Ancienneté de chômage').plot(kind='bar', stacked=True)\n",
    "\n",
    "# Ajouter les valeurs sur chaque barre\n",
    "for container in ax.containers:\n",
    "    ax.bar_label(container, fmt='%.001f', label_type='center')\n",
    "\n",
    "plt.title('Profils lignes')\n",
    "plt.ylabel('Pourcentage')\n",
    "plt.xlabel('Ancienneté de chômage')\n",
    "plt.legend(title='Âge')\n",
    "plt.tight_layout()\n",
    "\n",
    "# Affichage de l'histogramme\n",
    "plt.show()"
   ]
  },
  {
   "cell_type": "markdown",
   "metadata": {},
   "source": [
    "19% de l'échantillon sont des jeunes entre 15 et 24 ans, or on constate que cette répartition n'est pas respectée suivant la durée du chomage. Il y a plus de jeunes sur les petites durées de chomages (25% pour < 3 mois et 25,5%  pour <1 an) et nettement moins sur les longues durées (7,5% pour >2 ans).\n",
    "A contrario, 13,5% de l'échantillon sont des personnes de plus de 50 ans et on en retrouve 24,6% pour les longues durées."
   ]
  },
  {
   "cell_type": "markdown",
   "metadata": {},
   "source": [
    "### Profils colonnes"
   ]
  },
  {
   "cell_type": "code",
   "execution_count": 50,
   "metadata": {},
   "outputs": [
    {
     "name": "stdout",
     "output_type": "stream",
     "text": [
      "      Ancienneté de chômage     15-24     25-49   50 et +  \\\n",
      "0             Non renseigné  0.057819  0.046320  0.049409   \n",
      "1           Moins de 3 mois  0.223390  0.174610  0.097636   \n",
      "2          De 3 mois à 1 an  0.504599  0.376591  0.255083   \n",
      "3  De 1 an à moins de 2 ans  0.136662  0.197962  0.230969   \n",
      "4             2 ans et plus  0.077530  0.204517  0.366903   \n",
      "5                     Total  1.000000  1.000000  1.000000   \n",
      "\n",
      "   Profil colonne moyen  \n",
      "0              0.048981  \n",
      "1              0.173693  \n",
      "2              0.385091  \n",
      "3              0.190479  \n",
      "4              0.201756  \n",
      "5              1.000000  \n"
     ]
    }
   ],
   "source": [
    "# Création d'un tableau de profils colonnes\n",
    "df_colonne = df_eff.copy()\n",
    "\n",
    "# Renommer les colonnes dans df_colonne\n",
    "df_colonne = df_colonne.rename(columns={'Total': 'Profil colonne moyen'})\n",
    "\n",
    "# Calcul de chaque profil colonne\n",
    "for elt in df_colonne.columns:\n",
    "    if elt != 'Ancienneté de chômage':\n",
    "        df_colonne[elt] /= df_colonne[elt][len(df_colonne) - 1]\n",
    "\n",
    "# Affichage du tableau des profils lignes\n",
    "print(df_colonne)"
   ]
  },
  {
   "cell_type": "markdown",
   "metadata": {},
   "source": [
    "### Histogramme des profils colonnes"
   ]
  },
  {
   "cell_type": "code",
   "execution_count": 51,
   "metadata": {},
   "outputs": [
    {
     "data": {
      "image/png": "[encoded data removed]",
      "text/plain": [
       "<Figure size 640x480 with 1 Axes>"
      ]
     },
     "metadata": {},
     "output_type": "display_data"
    }
   ],
   "source": [
    "# Suppression de la colonne 'total' et de la ligne 'freq_marginale' si elles existent\n",
    "# df_colonne_temp = df_colonne.drop(columns=['Profil colonne moyen'], errors='ignore')\n",
    "df_colonne_temp = df_colonne[df_colonne['Ancienneté de chômage'] != 'Total']\n",
    "df_colonne_temp = df_colonne_temp.reset_index(drop=True)\n",
    "\n",
    "df_colonne_temp = df_colonne_temp.T\n",
    "\n",
    "df_colonne_temp.iloc[1:] = df_colonne_temp.iloc[1:].astype(float)\n",
    "\n",
    "# Tracé de l'histogramme empilé\n",
    "ax = df_colonne_temp.iloc[1:].plot(kind='bar', stacked=True)\n",
    "\n",
    "# Ajouter les valeurs sur chaque barre\n",
    "for container in ax.containers:\n",
    "    ax.bar_label(container, fmt='%.001f', label_type='center')\n",
    "\n",
    "plt.title('Histogramme empilé des effectifs femme et homme par niveau d\\'étude')\n",
    "plt.ylabel('Effectifs')\n",
    "plt.xlabel('Niveau d\\'étude')\n",
    "plt.legend(title='Sexe')\n",
    "plt.tight_layout()\n",
    "\n",
    "# Affichage de l'histogramme\n",
    "plt.show()"
   ]
  },
  {
   "cell_type": "markdown",
   "metadata": {},
   "source": [
    "Comme précédemment, on constate un rapprochement entre une durée de chomage courte et les jeunes d'un coté, et un rapprochement entre une durée de chomage longue et les plus de 50 ans d'un autre coté.\n",
    "Par exemple, 20% de l'échantillon est au chomage depuis plus de 2 ans. Cette proportion descend à 7,7% chez les jeunes entre 15 et 24 ans et monte à 36,7% chez les plus de 50 ans."
   ]
  }
 ],
 "metadata": {
  "kernelspec": {
   "display_name": "Python 3",
   "language": "python",
   "name": "python3"
  },
  "language_info": {
   "codemirror_mode": {
    "name": "ipython",
    "version": 3
   },
   "file_extension": ".py",
   "mimetype": "text/x-python",
   "name": "python",
   "nbconvert_exporter": "python",
   "pygments_lexer": "ipython3",
   "version": "3.8.10"
  }
 },
 "nbformat": 4,
 "nbformat_minor": 2
}
