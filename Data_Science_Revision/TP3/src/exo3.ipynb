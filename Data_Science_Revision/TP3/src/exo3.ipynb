{
 "cells": [
  {
   "cell_type": "markdown",
   "metadata": {},
   "source": [
    "# Thématique 3 - Analyse bivariée entre variables qualitatives"
   ]
  },
  {
   "cell_type": "markdown",
   "metadata": {},
   "source": [
    "### Importation des librairies"
   ]
  },
  {
   "cell_type": "code",
   "execution_count": 2,
   "metadata": {},
   "outputs": [],
   "source": [
    "import os\n",
    "import numpy as np\n",
    "import pandas as pd\n",
    "import matplotlib.pyplot as plt"
   ]
  },
  {
   "cell_type": "markdown",
   "metadata": {},
   "source": [
    "### Data pre-processing"
   ]
  },
  {
   "cell_type": "code",
   "execution_count": 3,
   "metadata": {},
   "outputs": [
    {
     "data": {
      "text/html": [
       "<div>\n",
       "<style scoped>\n",
       "    .dataframe tbody tr th:only-of-type {\n",
       "        vertical-align: middle;\n",
       "    }\n",
       "\n",
       "    .dataframe tbody tr th {\n",
       "        vertical-align: top;\n",
       "    }\n",
       "\n",
       "    .dataframe thead th {\n",
       "        text-align: right;\n",
       "    }\n",
       "</style>\n",
       "<table border=\"1\" class=\"dataframe\">\n",
       "  <thead>\n",
       "    <tr style=\"text-align: right;\">\n",
       "      <th></th>\n",
       "      <th>Age</th>\n",
       "      <th>Prescription</th>\n",
       "      <th>Astigmatic</th>\n",
       "      <th>Tears</th>\n",
       "      <th>Recommendation</th>\n",
       "    </tr>\n",
       "  </thead>\n",
       "  <tbody>\n",
       "    <tr>\n",
       "      <th>count</th>\n",
       "      <td>24</td>\n",
       "      <td>24</td>\n",
       "      <td>24</td>\n",
       "      <td>24</td>\n",
       "      <td>24</td>\n",
       "    </tr>\n",
       "    <tr>\n",
       "      <th>unique</th>\n",
       "      <td>3</td>\n",
       "      <td>2</td>\n",
       "      <td>2</td>\n",
       "      <td>2</td>\n",
       "      <td>3</td>\n",
       "    </tr>\n",
       "    <tr>\n",
       "      <th>top</th>\n",
       "      <td>young</td>\n",
       "      <td>myope</td>\n",
       "      <td>no</td>\n",
       "      <td>reduced</td>\n",
       "      <td>none</td>\n",
       "    </tr>\n",
       "    <tr>\n",
       "      <th>freq</th>\n",
       "      <td>8</td>\n",
       "      <td>12</td>\n",
       "      <td>12</td>\n",
       "      <td>12</td>\n",
       "      <td>15</td>\n",
       "    </tr>\n",
       "  </tbody>\n",
       "</table>\n",
       "</div>"
      ],
      "text/plain": [
       "          Age Prescription Astigmatic    Tears Recommendation\n",
       "count      24           24         24       24             24\n",
       "unique      3            2          2        2              3\n",
       "top     young        myope         no  reduced           none\n",
       "freq        8           12         12       12             15"
      ]
     },
     "execution_count": 3,
     "metadata": {},
     "output_type": "execute_result"
    }
   ],
   "source": [
    "# Préparation du fichier de données\n",
    "filepath = \"../data\"\n",
    "filename = \"lenses.txt\"\n",
    "file = os.path.join(filepath, filename)\n",
    "\n",
    "# Lecture des données\n",
    "df_original = pd.read_csv(file, sep=\"\\t\")\n",
    "df = df_original.copy()\n",
    "\n",
    "# Affichage des indicateurs de positions et de dispersions\n",
    "df.describe()"
   ]
  },
  {
   "cell_type": "markdown",
   "metadata": {},
   "source": [
    "Ce jeu de données comptabilise certaines caractéristiques dont l'âge, les prescriotiptions et des recommendations médicales pour les patients d'une clinique. Ici, nous comptons 24 patients, soit 24 individus. Les variables étant qualitatives, il est impossible d'obtenir des statistiques comme la moyenne ou le min/max. Il faudra donc adapter les données pour obtenir un tableau de contingence afin de faire une étude d'indépendance."
   ]
  },
  {
   "cell_type": "code",
   "execution_count": 4,
   "metadata": {},
   "outputs": [
    {
     "data": {
      "text/html": [
       "<div>\n",
       "<style scoped>\n",
       "    .dataframe tbody tr th:only-of-type {\n",
       "        vertical-align: middle;\n",
       "    }\n",
       "\n",
       "    .dataframe tbody tr th {\n",
       "        vertical-align: top;\n",
       "    }\n",
       "\n",
       "    .dataframe thead th {\n",
       "        text-align: right;\n",
       "    }\n",
       "</style>\n",
       "<table border=\"1\" class=\"dataframe\">\n",
       "  <thead>\n",
       "    <tr style=\"text-align: right;\">\n",
       "      <th></th>\n",
       "      <th>Age</th>\n",
       "      <th>Prescription</th>\n",
       "      <th>Astigmatic</th>\n",
       "      <th>Tears</th>\n",
       "      <th>Recommendation</th>\n",
       "    </tr>\n",
       "  </thead>\n",
       "  <tbody>\n",
       "    <tr>\n",
       "      <th>0</th>\n",
       "      <td>young</td>\n",
       "      <td>myope</td>\n",
       "      <td>no</td>\n",
       "      <td>reduced</td>\n",
       "      <td>none</td>\n",
       "    </tr>\n",
       "    <tr>\n",
       "      <th>1</th>\n",
       "      <td>young</td>\n",
       "      <td>myope</td>\n",
       "      <td>no</td>\n",
       "      <td>normal</td>\n",
       "      <td>soft</td>\n",
       "    </tr>\n",
       "    <tr>\n",
       "      <th>2</th>\n",
       "      <td>young</td>\n",
       "      <td>myope</td>\n",
       "      <td>yes</td>\n",
       "      <td>reduced</td>\n",
       "      <td>none</td>\n",
       "    </tr>\n",
       "    <tr>\n",
       "      <th>3</th>\n",
       "      <td>young</td>\n",
       "      <td>myope</td>\n",
       "      <td>yes</td>\n",
       "      <td>normal</td>\n",
       "      <td>hard</td>\n",
       "    </tr>\n",
       "    <tr>\n",
       "      <th>4</th>\n",
       "      <td>young</td>\n",
       "      <td>hypermetrope</td>\n",
       "      <td>no</td>\n",
       "      <td>reduced</td>\n",
       "      <td>none</td>\n",
       "    </tr>\n",
       "  </tbody>\n",
       "</table>\n",
       "</div>"
      ],
      "text/plain": [
       "     Age  Prescription Astigmatic    Tears Recommendation\n",
       "0  young         myope         no  reduced           none\n",
       "1  young         myope         no   normal           soft\n",
       "2  young         myope        yes  reduced           none\n",
       "3  young         myope        yes   normal           hard\n",
       "4  young  hypermetrope         no  reduced           none"
      ]
     },
     "execution_count": 4,
     "metadata": {},
     "output_type": "execute_result"
    }
   ],
   "source": [
    "df.head()"
   ]
  },
  {
   "cell_type": "code",
   "execution_count": 5,
   "metadata": {},
   "outputs": [
    {
     "data": {
      "text/html": [
       "<div>\n",
       "<style scoped>\n",
       "    .dataframe tbody tr th:only-of-type {\n",
       "        vertical-align: middle;\n",
       "    }\n",
       "\n",
       "    .dataframe tbody tr th {\n",
       "        vertical-align: top;\n",
       "    }\n",
       "\n",
       "    .dataframe thead th {\n",
       "        text-align: right;\n",
       "    }\n",
       "</style>\n",
       "<table border=\"1\" class=\"dataframe\">\n",
       "  <thead>\n",
       "    <tr style=\"text-align: right;\">\n",
       "      <th></th>\n",
       "      <th>Age</th>\n",
       "      <th>Prescription</th>\n",
       "      <th>Astigmatic</th>\n",
       "      <th>Tears</th>\n",
       "      <th>Recommendation</th>\n",
       "    </tr>\n",
       "  </thead>\n",
       "  <tbody>\n",
       "    <tr>\n",
       "      <th>19</th>\n",
       "      <td>presbyopic</td>\n",
       "      <td>myope</td>\n",
       "      <td>yes</td>\n",
       "      <td>normal</td>\n",
       "      <td>hard</td>\n",
       "    </tr>\n",
       "    <tr>\n",
       "      <th>20</th>\n",
       "      <td>presbyopic</td>\n",
       "      <td>hypermetrope</td>\n",
       "      <td>no</td>\n",
       "      <td>reduced</td>\n",
       "      <td>none</td>\n",
       "    </tr>\n",
       "    <tr>\n",
       "      <th>21</th>\n",
       "      <td>presbyopic</td>\n",
       "      <td>hypermetrope</td>\n",
       "      <td>no</td>\n",
       "      <td>normal</td>\n",
       "      <td>soft</td>\n",
       "    </tr>\n",
       "    <tr>\n",
       "      <th>22</th>\n",
       "      <td>presbyopic</td>\n",
       "      <td>hypermetrope</td>\n",
       "      <td>yes</td>\n",
       "      <td>reduced</td>\n",
       "      <td>none</td>\n",
       "    </tr>\n",
       "    <tr>\n",
       "      <th>23</th>\n",
       "      <td>presbyopic</td>\n",
       "      <td>hypermetrope</td>\n",
       "      <td>yes</td>\n",
       "      <td>normal</td>\n",
       "      <td>none</td>\n",
       "    </tr>\n",
       "  </tbody>\n",
       "</table>\n",
       "</div>"
      ],
      "text/plain": [
       "           Age  Prescription Astigmatic    Tears Recommendation\n",
       "19  presbyopic         myope        yes   normal           hard\n",
       "20  presbyopic  hypermetrope         no  reduced           none\n",
       "21  presbyopic  hypermetrope         no   normal           soft\n",
       "22  presbyopic  hypermetrope        yes  reduced           none\n",
       "23  presbyopic  hypermetrope        yes   normal           none"
      ]
     },
     "execution_count": 5,
     "metadata": {},
     "output_type": "execute_result"
    }
   ],
   "source": [
    "df.tail()"
   ]
  },
  {
   "cell_type": "code",
   "execution_count": 6,
   "metadata": {},
   "outputs": [
    {
     "data": {
      "text/plain": [
       "(24, 5)"
      ]
     },
     "execution_count": 6,
     "metadata": {},
     "output_type": "execute_result"
    }
   ],
   "source": [
    "df.shape"
   ]
  },
  {
   "cell_type": "markdown",
   "metadata": {},
   "source": [
    "Il y a 24 individus pour 5 caractéristiques/variables."
   ]
  },
  {
   "cell_type": "code",
   "execution_count": 7,
   "metadata": {},
   "outputs": [
    {
     "data": {
      "text/plain": [
       "Age               object\n",
       "Prescription      object\n",
       "Astigmatic        object\n",
       "Tears             object\n",
       "Recommendation    object\n",
       "dtype: object"
      ]
     },
     "execution_count": 7,
     "metadata": {},
     "output_type": "execute_result"
    }
   ],
   "source": [
    "df.dtypes"
   ]
  },
  {
   "cell_type": "code",
   "execution_count": 8,
   "metadata": {},
   "outputs": [
    {
     "name": "stdout",
     "output_type": "stream",
     "text": [
      "<class 'pandas.core.frame.DataFrame'>\n",
      "RangeIndex: 24 entries, 0 to 23\n",
      "Data columns (total 5 columns):\n",
      " #   Column          Non-Null Count  Dtype \n",
      "---  ------          --------------  ----- \n",
      " 0   Age             24 non-null     object\n",
      " 1   Prescription    24 non-null     object\n",
      " 2   Astigmatic      24 non-null     object\n",
      " 3   Tears           24 non-null     object\n",
      " 4   Recommendation  24 non-null     object\n",
      "dtypes: object(5)\n",
      "memory usage: 1.1+ KB\n"
     ]
    }
   ],
   "source": [
    "df.info()"
   ]
  },
  {
   "cell_type": "code",
   "execution_count": 9,
   "metadata": {},
   "outputs": [
    {
     "name": "stdout",
     "output_type": "stream",
     "text": [
      "<class 'pandas.core.frame.DataFrame'>\n",
      "RangeIndex: 24 entries, 0 to 23\n",
      "Data columns (total 5 columns):\n",
      " #   Column          Non-Null Count  Dtype   \n",
      "---  ------          --------------  -----   \n",
      " 0   Age             24 non-null     category\n",
      " 1   Prescription    24 non-null     category\n",
      " 2   Astigmatic      24 non-null     category\n",
      " 3   Tears           24 non-null     category\n",
      " 4   Recommendation  24 non-null     category\n",
      "dtypes: category(5)\n",
      "memory usage: 884.0 bytes\n"
     ]
    }
   ],
   "source": [
    "# Changement de type\n",
    "df.Age = df[\"Age\"].astype(\"category\")\n",
    "df.Prescription = df[\"Prescription\"].astype(\"category\")\n",
    "df.Astigmatic = df[\"Astigmatic\"].astype(\"category\")\n",
    "df.Tears = df[\"Tears\"].astype(\"category\")\n",
    "df.Recommendation = df[\"Recommendation\"].astype(\"category\")\n",
    "\n",
    "df.info()"
   ]
  },
  {
   "cell_type": "code",
   "execution_count": 10,
   "metadata": {},
   "outputs": [
    {
     "data": {
      "text/plain": [
       "Index(['Age', 'Prescription', 'Astigmatic', 'Tears', 'Recommendation'], dtype='object')"
      ]
     },
     "execution_count": 10,
     "metadata": {},
     "output_type": "execute_result"
    }
   ],
   "source": [
    "df.columns"
   ]
  },
  {
   "cell_type": "markdown",
   "metadata": {},
   "source": [
    "Explication des variables :\n",
    "- Age : Age d'un patient (young ou pre-presbyopic)\n",
    "- Prescription : Prescription médicale (myope ou hypermetrope). \n",
    "- Astigmatic: Astigmatie (oui ou non). \n",
    "- Tears : Taux de production de larmes (reduced ou normal).\n",
    "- Recommendation  :  Recommendations médicales (the  patient  should  be  fitted  with  hard  contact  lenses, the  patient  should  be  fitted  with  soft  contact  lenses ou the  patient  should  not be fitted with contact lenses)."
   ]
  },
  {
   "cell_type": "code",
   "execution_count": 11,
   "metadata": {},
   "outputs": [
    {
     "data": {
      "text/plain": [
       "Age               0\n",
       "Prescription      0\n",
       "Astigmatic        0\n",
       "Tears             0\n",
       "Recommendation    0\n",
       "dtype: int64"
      ]
     },
     "execution_count": 11,
     "metadata": {},
     "output_type": "execute_result"
    }
   ],
   "source": [
    "df.isnull().sum()"
   ]
  },
  {
   "cell_type": "markdown",
   "metadata": {},
   "source": [
    "Le jeu de données n'a pas l'air de présenter de données manquantes."
   ]
  },
  {
   "cell_type": "code",
   "execution_count": 12,
   "metadata": {},
   "outputs": [
    {
     "name": "stdout",
     "output_type": "stream",
     "text": [
      "AGE :['young', 'pre-presbyopic', 'presbyopic']\n",
      "Categories (3, object): ['pre-presbyopic', 'presbyopic', 'young'] \n",
      "PRESCRIPTION :['myope', 'hypermetrope']\n",
      "Categories (2, object): ['hypermetrope', 'myope'] \n",
      "ASTIGMATIC :['no', 'yes']\n",
      "Categories (2, object): ['no', 'yes'] \n",
      "TEARS :['reduced', 'normal']\n",
      "Categories (2, object): ['normal', 'reduced'] \n",
      "RECOMMENDATION :['none', 'soft', 'hard']\n",
      "Categories (3, object): ['hard', 'none', 'soft'] \n"
     ]
    }
   ],
   "source": [
    "list_col = df.columns\n",
    "\n",
    "for col in list_col: \n",
    "    print('{} :{} ' . format(col.upper(), df[col].unique()))"
   ]
  },
  {
   "cell_type": "code",
   "execution_count": 13,
   "metadata": {},
   "outputs": [
    {
     "data": {
      "text/plain": [
       "Age             Recommendation\n",
       "presbyopic      none              6\n",
       "pre-presbyopic  none              5\n",
       "young           none              4\n",
       "pre-presbyopic  soft              2\n",
       "young           hard              2\n",
       "                soft              2\n",
       "pre-presbyopic  hard              1\n",
       "presbyopic      hard              1\n",
       "                soft              1\n",
       "Name: count, dtype: int64"
      ]
     },
     "execution_count": 13,
     "metadata": {},
     "output_type": "execute_result"
    }
   ],
   "source": [
    "df[['Age','Recommendation']].value_counts()"
   ]
  },
  {
   "cell_type": "code",
   "execution_count": 14,
   "metadata": {},
   "outputs": [
    {
     "name": "stdout",
     "output_type": "stream",
     "text": [
      "               Age  Prescription Astigmatic    Tears Recommendation\n",
      "0            young         myope         no  reduced           none\n",
      "1            young         myope         no   normal           soft\n",
      "2            young         myope        yes  reduced           none\n",
      "3            young         myope        yes   normal           hard\n",
      "4            young  hypermetrope         no  reduced           none\n",
      "5            young  hypermetrope         no   normal           soft\n",
      "6            young  hypermetrope        yes  reduced           none\n",
      "7            young  hypermetrope        yes   normal           hard\n",
      "8   pre-presbyopic         myope         no  reduced           none\n",
      "9   pre-presbyopic         myope         no   normal           soft\n",
      "10  pre-presbyopic         myope        yes  reduced           none\n",
      "11  pre-presbyopic         myope        yes   normal           hard\n",
      "12  pre-presbyopic  hypermetrope         no  reduced           none\n",
      "13  pre-presbyopic  hypermetrope         no   normal           soft\n",
      "14  pre-presbyopic  hypermetrope        yes  reduced           none\n",
      "15  pre-presbyopic  hypermetrope        yes   normal           none\n",
      "16      presbyopic         myope         no  reduced           none\n",
      "17      presbyopic         myope         no   normal           none\n",
      "18      presbyopic         myope        yes  reduced           none\n",
      "19      presbyopic         myope        yes   normal           hard\n",
      "20      presbyopic  hypermetrope         no  reduced           none\n",
      "21      presbyopic  hypermetrope         no   normal           soft\n",
      "22      presbyopic  hypermetrope        yes  reduced           none\n",
      "23      presbyopic  hypermetrope        yes   normal           none\n"
     ]
    }
   ],
   "source": [
    "print(df)"
   ]
  },
  {
   "cell_type": "markdown",
   "metadata": {},
   "source": [
    "**Remarque** : Lorsque nous faisons fasse à ce genre de jeu de données où il faut analyser l'indépendance entre les données, il faut effectuer un test 2 à 2 sur les variables. Ici, l'étude se passera entre les variables Age et Recommendation."
   ]
  },
  {
   "cell_type": "markdown",
   "metadata": {},
   "source": [
    "### Calcul des effectifs marginaux"
   ]
  },
  {
   "cell_type": "code",
   "execution_count": 15,
   "metadata": {},
   "outputs": [
    {
     "name": "stdout",
     "output_type": "stream",
     "text": [
      "Age             pre-presbyopic  presbyopic  young  Total\n",
      "Recommendation                                          \n",
      "hard                         1           1      2      4\n",
      "none                         5           6      4     15\n",
      "soft                         2           1      2      5\n",
      "Total                        8           8      8     24\n"
     ]
    }
   ],
   "source": [
    "df_eff = pd.crosstab(df['Recommendation'], df['Age'], margins=True, margins_name='Total')\n",
    "\n",
    "print(df_eff)"
   ]
  },
  {
   "cell_type": "code",
   "execution_count": 16,
   "metadata": {},
   "outputs": [
    {
     "name": "stdout",
     "output_type": "stream",
     "text": [
      "Age             pre-presbyopic  presbyopic  young  Total\n",
      "Recommendation                                          \n",
      "hard                         1           1      2      4\n",
      "none                         5           6      4     15\n",
      "soft                         2           1      2      5\n",
      "Total                        8           8      8     24\n"
     ]
    },
    {
     "data": {
      "text/plain": [
       "Index(['pre-presbyopic', 'presbyopic', 'young', 'Total'], dtype='object', name='Age')"
      ]
     },
     "execution_count": 16,
     "metadata": {},
     "output_type": "execute_result"
    }
   ],
   "source": [
    "print(df_eff)\n",
    "\n",
    "df_eff.columns"
   ]
  },
  {
   "cell_type": "markdown",
   "metadata": {},
   "source": [
    "### Calcul des fréquences marginales"
   ]
  },
  {
   "cell_type": "code",
   "execution_count": 17,
   "metadata": {},
   "outputs": [
    {
     "name": "stdout",
     "output_type": "stream",
     "text": [
      "Age             pre-presbyopic  presbyopic     young     Total\n",
      "Recommendation                                                \n",
      "hard                  0.041667    0.041667  0.083333  0.166667\n",
      "none                  0.208333    0.250000  0.166667  0.625000\n",
      "soft                  0.083333    0.041667  0.083333  0.208333\n",
      "Total                 0.333333    0.333333  0.333333  1.000000\n"
     ]
    }
   ],
   "source": [
    "# Création d'un tableau de fréquences\n",
    "df_freq = df_eff.copy()\n",
    "\n",
    "# Renommer les colonnes dans df_freq\n",
    "df_freq = df_freq.rename(columns={'eff_ligne': 'freq_ligne'})\n",
    "df_freq.index = df_freq.index.str.replace('eff_colonne', 'freq_colonne')\n",
    "\n",
    "total_general = df_eff['Total'][3]\n",
    "\n",
    "# Calcul des fréquences de chaque case\n",
    "df_freq[['pre-presbyopic', 'presbyopic', 'young', 'Total']] = df_freq[['pre-presbyopic', 'presbyopic', 'young', 'Total']] / total_general\n",
    "\n",
    "# Affichage du tableau de fréquences\n",
    "print(df_freq)"
   ]
  },
  {
   "cell_type": "markdown",
   "metadata": {},
   "source": [
    "### Profils lignes"
   ]
  },
  {
   "cell_type": "code",
   "execution_count": 18,
   "metadata": {},
   "outputs": [
    {
     "name": "stdout",
     "output_type": "stream",
     "text": [
      "Age                 pre-presbyopic  presbyopic     young  Total\n",
      "Recommendation                                                 \n",
      "hard                      0.250000    0.250000  0.500000    1.0\n",
      "none                      0.333333    0.400000  0.266667    1.0\n",
      "soft                      0.400000    0.200000  0.400000    1.0\n",
      "Profil ligne moyen        0.333333    0.333333  0.333333    1.0\n"
     ]
    }
   ],
   "source": [
    "# Création d'un tableau de profils lignes\n",
    "df_profil = df_eff.copy()\n",
    "\n",
    "# Renommer les colonnes dans df_profil\n",
    "df_profil = df_profil.rename(columns={'eff_ligne': 'Total'})\n",
    "df_profil.index = df_profil.index.str.replace('Total', 'Profil ligne moyen')\n",
    "\n",
    "# Total de chaque ligne\n",
    "total_ligne = df_profil['Total']\n",
    "\n",
    "# Calcul de chaque profil ligne\n",
    "df_profil['pre-presbyopic'] /= total_ligne\n",
    "df_profil['presbyopic'] /= total_ligne\n",
    "df_profil['young'] /= total_ligne\n",
    "df_profil['Total'] /= total_ligne\n",
    "\n",
    "# Affichage du tableau des profils lignes\n",
    "print(df_profil)"
   ]
  },
  {
   "cell_type": "markdown",
   "metadata": {},
   "source": [
    "Sur l'ensemble des patients, la population est assez homogène et présente 1/3 de chaque classe ('pre-presbyopic','presbyopic', 'young'). Pour autant, il y a plus de cas soft sur les pré-presbyopic là où il y a autant de hard et de soft chez les jeunes et une majorité qui n'ont pas de recommendation chez les presbyopic."
   ]
  },
  {
   "cell_type": "markdown",
   "metadata": {},
   "source": [
    "### Histogramme des profils lignes"
   ]
  },
  {
   "cell_type": "code",
   "execution_count": 19,
   "metadata": {},
   "outputs": [
    {
     "data": {
      "image/png": "[encoded data removed]",
      "text/plain": [
       "<Figure size 640x480 with 1 Axes>"
      ]
     },
     "metadata": {},
     "output_type": "display_data"
    }
   ],
   "source": [
    "# Suppression de la colonne 'total' et de la ligne 'freq_marginale' si elles existent\n",
    "df_profil_temp = df_profil.drop(columns=['Total'], errors='ignore')\n",
    "# df_profil_temp = df_profil_temp[:-1]\n",
    "\n",
    "# Tracé de l'histogramme empilé\n",
    "ax = df_profil_temp.plot(kind='bar', stacked=True)\n",
    "\n",
    "# Ajouter les valeurs sur chaque barre\n",
    "for container in ax.containers:\n",
    "    ax.bar_label(container, fmt='%.001f', label_type='center')\n",
    "\n",
    "plt.title('Histogramme empilé des profils lignes')\n",
    "plt.ylabel('Pourcentage')\n",
    "plt.xlabel('Recommendation')\n",
    "plt.legend(title='Age')\n",
    "plt.tight_layout()\n",
    "\n",
    "# Affichage de l'histogramme\n",
    "plt.show()"
   ]
  },
  {
   "cell_type": "markdown",
   "metadata": {},
   "source": [
    "Parmis ceux qui n'ont pas de recommendation, 30% sont des jeunes, 30% de pre-presbyopic et 40% de presbyopic."
   ]
  },
  {
   "cell_type": "markdown",
   "metadata": {},
   "source": [
    "### Profils colonnes"
   ]
  },
  {
   "cell_type": "code",
   "execution_count": 20,
   "metadata": {},
   "outputs": [
    {
     "name": "stdout",
     "output_type": "stream",
     "text": [
      "Age             pre-presbyopic  presbyopic  young  Profil colonne moyen\n",
      "Recommendation                                                         \n",
      "hard                     0.125       0.125   0.25              0.166667\n",
      "none                     0.625       0.750   0.50              0.625000\n",
      "soft                     0.250       0.125   0.25              0.208333\n",
      "Total                    1.000       1.000   1.00              1.000000\n"
     ]
    }
   ],
   "source": [
    "# Création d'un tableau de profils colonnes\n",
    "df_colonne = df_eff.copy()\n",
    "\n",
    "# Renommer les colonnes dans df_colonne\n",
    "df_colonne = df_colonne.rename(columns={'Total': 'Profil colonne moyen'})\n",
    "\n",
    "# Total de chaque colonne\n",
    "total_colonne = df_colonne.loc['Total']\n",
    "\n",
    "# Calcul de chaque profil ligne\n",
    "df_colonne[['pre-presbyopic','presbyopic', 'young', 'Profil colonne moyen']] /= total_colonne\n",
    "\n",
    "# Affichage du tableau des profils lignes\n",
    "print(df_colonne)"
   ]
  },
  {
   "cell_type": "markdown",
   "metadata": {},
   "source": [
    "Ici, 62.5% de l'échantillon n'a pas de recommendation. Ces proportions montent à 75% chez les presbyopix et descend à 50% chez les jeunes."
   ]
  },
  {
   "cell_type": "markdown",
   "metadata": {},
   "source": [
    "### Histogramme des profils colonnes"
   ]
  },
  {
   "cell_type": "code",
   "execution_count": 27,
   "metadata": {},
   "outputs": [
    {
     "data": {
      "image/png": "[encoded data removed]",
      "text/plain": [
       "<Figure size 640x480 with 1 Axes>"
      ]
     },
     "metadata": {},
     "output_type": "display_data"
    }
   ],
   "source": [
    "# Suppression de la colonne 'total' et de la ligne 'freq_marginale' si elles existent\n",
    "# df_colonne_temp = df_colonne.drop(columns=['Profil colonne moyen'], errors='ignore')\n",
    "df_colonne_temp = df_colonne[df_colonne.index != 'Total']\n",
    "\n",
    "df_colonne_temp = df_colonne_temp.T\n",
    "\n",
    "# Tracé de l'histogramme empilé\n",
    "ax = df_colonne_temp.plot(kind='bar', stacked=True)\n",
    "\n",
    "# Ajouter les valeurs sur chaque barre\n",
    "for container in ax.containers:\n",
    "    ax.bar_label(container, fmt='%.001f', label_type='center')\n",
    "    \n",
    "plt.title('Histogramme empilé des profils colonnes')\n",
    "plt.ylabel('Effectifs')\n",
    "plt.xlabel('Age')\n",
    "plt.legend(title='Recommendation')\n",
    "plt.tight_layout()\n",
    "\n",
    "# Affichage de l'histogramme\n",
    "plt.show()"
   ]
  },
  {
   "cell_type": "markdown",
   "metadata": {},
   "source": [
    "Parmis les pre-presbyopic, 60% des individus n'ont pas de recommendation."
   ]
  },
  {
   "cell_type": "markdown",
   "metadata": {},
   "source": [
    "## Distance du Khi2\n",
    "### Tableaux des effectifs observés vs théoriques"
   ]
  },
  {
   "cell_type": "code",
   "execution_count": 22,
   "metadata": {},
   "outputs": [
    {
     "name": "stdout",
     "output_type": "stream",
     "text": [
      "Tableau des effectifs observés :\n",
      " Age             pre-presbyopic  presbyopic  young  Total\n",
      "Recommendation                                          \n",
      "hard                         1           1      2      4\n",
      "none                         5           6      4     15\n",
      "soft                         2           1      2      5\n",
      "Total                        8           8      8     24\n",
      "\n",
      "Tableau des effectifs théoriques :\n",
      " Age             pre-presbyopic  presbyopic     young  Total\n",
      "Recommendation                                             \n",
      "hard                  1.333333    1.333333  1.333333      4\n",
      "none                  5.000000    5.000000  5.000000     15\n",
      "soft                  1.666667    1.666667  1.666667      5\n",
      "Total                 8.000000    8.000000  8.000000     24\n"
     ]
    }
   ],
   "source": [
    "from scipy.stats import chi2_contingency as chi2_contingency\n",
    "\n",
    "khi2, pval, ddl, contingent_theorique = chi2_contingency(df_eff[['pre-presbyopic','presbyopic', 'young']])\n",
    "\n",
    "print(\"Tableau des effectifs observés :\\n\", df_eff)\n",
    "\n",
    "# Création d'un tableau des effectifs théoriques\n",
    "df_theorique = df_eff.copy()\n",
    "df_theorique[['pre-presbyopic','presbyopic', 'young']] = contingent_theorique\n",
    "\n",
    "print(\"\\nTableau des effectifs théoriques :\\n\", df_theorique)"
   ]
  },
  {
   "cell_type": "markdown",
   "metadata": {},
   "source": [
    "### Tableaux des fréquences observés vs théoriques"
   ]
  },
  {
   "cell_type": "code",
   "execution_count": 23,
   "metadata": {},
   "outputs": [
    {
     "name": "stdout",
     "output_type": "stream",
     "text": [
      "Tableau des fréquences observés :\n",
      " Age             pre-presbyopic  presbyopic     young     Total\n",
      "Recommendation                                                \n",
      "hard                  0.041667    0.041667  0.083333  0.166667\n",
      "none                  0.208333    0.250000  0.166667  0.625000\n",
      "soft                  0.083333    0.041667  0.083333  0.208333\n",
      "Total                 0.333333    0.333333  0.333333  1.000000\n",
      "\n",
      "Tableau des fréquences théoriques :\n",
      " Age             pre-presbyopic  presbyopic     young     Total\n",
      "Recommendation                                                \n",
      "hard                  0.055556    0.055556  0.055556  0.166667\n",
      "none                  0.208333    0.208333  0.208333  0.625000\n",
      "soft                  0.069444    0.069444  0.069444  0.208333\n",
      "Total                 0.333333    0.333333  0.333333  1.000000\n"
     ]
    }
   ],
   "source": [
    "khi2_freq, pval_freq, ddl_freq, contingent_theorique_freq = chi2_contingency(df_freq[['pre-presbyopic','presbyopic', 'young']])\n",
    "\n",
    "print(\"Tableau des fréquences observés :\\n\", df_freq)\n",
    "\n",
    "# Création d'un tableau des effectifs théoriques\n",
    "df_freq_theorique = df_freq.copy()\n",
    "df_freq_theorique[['pre-presbyopic','presbyopic', 'young']] = contingent_theorique_freq\n",
    "\n",
    "print(\"\\nTableau des fréquences théoriques :\\n\", df_freq_theorique)"
   ]
  },
  {
   "cell_type": "markdown",
   "metadata": {},
   "source": [
    "### Tableau des différences"
   ]
  },
  {
   "cell_type": "code",
   "execution_count": 24,
   "metadata": {},
   "outputs": [
    {
     "name": "stdout",
     "output_type": "stream",
     "text": [
      "Age             pre-presbyopic  presbyopic     young  Total\n",
      "Recommendation                                             \n",
      "hard                  0.083333    0.083333  0.333333      4\n",
      "none                  0.000000    0.200000  0.200000     15\n",
      "soft                  0.066667    0.266667  0.066667      5\n",
      "Total                 0.000000    0.000000  0.000000     24\n"
     ]
    },
    {
     "name": "stderr",
     "output_type": "stream",
     "text": [
      "/tmp/ipykernel_7683/3513671975.py:8: SettingWithCopyWarning: \n",
      "A value is trying to be set on a copy of a slice from a DataFrame\n",
      "\n",
      "See the caveats in the documentation: https://pandas.pydata.org/pandas-docs/stable/user_guide/indexing.html#returning-a-view-versus-a-copy\n",
      "  df_diff['presbyopic'][:n] = ((df_theorique['presbyopic'][:n] - df_eff['presbyopic'][:n]) ** 2) / df_theorique['presbyopic'][:n]\n",
      "/tmp/ipykernel_7683/3513671975.py:9: SettingWithCopyWarning: \n",
      "A value is trying to be set on a copy of a slice from a DataFrame\n",
      "\n",
      "See the caveats in the documentation: https://pandas.pydata.org/pandas-docs/stable/user_guide/indexing.html#returning-a-view-versus-a-copy\n",
      "  df_diff['young'][:n] = ((df_theorique['young'][:n] - df_eff['young'][:n]) ** 2) / df_theorique['young'][:n]\n"
     ]
    }
   ],
   "source": [
    "# Copie du DataFrame original\n",
    "df_diff = df_eff.copy()\n",
    "\n",
    "n = len(df_diff)\n",
    "\n",
    "# Calcul de la différence\n",
    "df_diff['pre-presbyopic'][:n] = ((df_theorique['pre-presbyopic'][:n] - df_eff['pre-presbyopic'][:n]) ** 2) / df_theorique['pre-presbyopic'][:n]\n",
    "df_diff['presbyopic'][:n] = ((df_theorique['presbyopic'][:n] - df_eff['presbyopic'][:n]) ** 2) / df_theorique['presbyopic'][:n]\n",
    "df_diff['young'][:n] = ((df_theorique['young'][:n] - df_eff['young'][:n]) ** 2) / df_theorique['young'][:n]\n",
    "\n",
    "print(df_diff)"
   ]
  },
  {
   "cell_type": "markdown",
   "metadata": {},
   "source": [
    "### Analyse du Khi2"
   ]
  },
  {
   "cell_type": "code",
   "execution_count": 25,
   "metadata": {},
   "outputs": [
    {
     "name": "stdout",
     "output_type": "stream",
     "text": [
      "Khi2 = 1.3\n",
      "ddl = 4\n",
      "Seuil = 9.49\n",
      "\n",
      "La distance du chi-deux est inférieure au seuil. On peut dire que les variables sont indépendantes. Ce qui confirme ce qui a été observé avec les profils lignes et colonnes.\n"
     ]
    }
   ],
   "source": [
    "def get_seuil(ddl):\n",
    "    if ddl == 1:\n",
    "        seuil = 3.84\n",
    "    elif ddl == 2:\n",
    "        seuil = 5.99\n",
    "    elif ddl == 3:\n",
    "        seuil = 7.82\n",
    "    elif ddl == 4:\n",
    "        seuil = 9.49\n",
    "    elif ddl == 5:\n",
    "        seuil = 11.07\n",
    "    elif ddl == 6:\n",
    "        seuil = 12.59\n",
    "    elif ddl == 7:\n",
    "        seuil = 14.07\n",
    "    elif ddl == 8:\n",
    "        seuil = 15.51\n",
    "    elif ddl == 9:\n",
    "        seuil = 16.92\n",
    "    return seuil\n",
    "\n",
    "seuil = get_seuil(ddl - 2) # On enlève 2 au ddl car ici il considère la ligne eff_ligne et la colonne eff_colonne\n",
    "\n",
    "print(\"Khi2 =\", khi2)\n",
    "print(\"ddl =\", ddl - 2)\n",
    "print(\"Seuil =\", seuil)\n",
    "\n",
    "if (khi2 > seuil):\n",
    "    print(\"\\nLa distance du chi-deux est supérieure au seuil. On admet donc que les variables sont fortement liées. Ce qui confirme ce qui a été observé avec les profils lignes et colonnes.\")\n",
    "else:\n",
    "    print(\"\\nLa distance du chi-deux est inférieure au seuil. On peut dire que les variables sont indépendantes. Ce qui confirme ce qui a été observé avec les profils lignes et colonnes.\")"
   ]
  },
  {
   "cell_type": "markdown",
   "metadata": {},
   "source": [
    "Attention, ici nous n'avons pas un effectif théorique > 5 pour chaque case du tableau. Les résultats de ce test ne peuvent donc pas être considérés."
   ]
  }
 ],
 "metadata": {
  "kernelspec": {
   "display_name": "Python 3",
   "language": "python",
   "name": "python3"
  },
  "language_info": {
   "codemirror_mode": {
    "name": "ipython",
    "version": 3
   },
   "file_extension": ".py",
   "mimetype": "text/x-python",
   "name": "python",
   "nbconvert_exporter": "python",
   "pygments_lexer": "ipython3",
   "version": "3.8.10"
  }
 },
 "nbformat": 4,
 "nbformat_minor": 2
}
